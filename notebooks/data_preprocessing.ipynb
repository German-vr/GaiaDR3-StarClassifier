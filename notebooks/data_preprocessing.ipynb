{
 "cells": [
  {
   "cell_type": "markdown",
   "metadata": {},
   "source": [
    "# Data Preprocessing"
   ]
  },
  {
   "cell_type": "markdown",
   "metadata": {},
   "source": [
    "This notebook retrieves Gaia DR3 data for stars in the vicinity of the **Pleiades open cluster** (Messier 45). We aim to:\n",
    "- Extract astrometric (parallax, proper motion) and photometric (magnitudes) data.\n",
    "- Prepare a clean dataset for downstream analysis."
   ]
  },
  {
   "cell_type": "code",
   "execution_count": 1,
   "metadata": {},
   "outputs": [],
   "source": [
    "# Necessary imports\n",
    "import numpy as np\n",
    "import pandas as pd\n",
    "\n",
    "# Astronomy tools\n",
    "import astropy.units as u\n",
    "from astropy.coordinates import SkyCoord\n",
    "\n",
    "# Access astronomical databases\n",
    "from astroquery.vizier import Vizier"
   ]
  },
  {
   "cell_type": "markdown",
   "metadata": {},
   "source": [
    "---"
   ]
  },
  {
   "cell_type": "markdown",
   "metadata": {},
   "source": [
    "## Selecting the data"
   ]
  },
  {
   "cell_type": "markdown",
   "metadata": {},
   "source": [
    "### Step 1: Query Gaia DR3 data"
   ]
  },
  {
   "cell_type": "markdown",
   "metadata": {},
   "source": [
    "#### Why Gaia DR3?\n",
    "Gaia DR3 provides high-precision astrometry (parallaxes, proper motions) and photometry for over 1.8 billion stars. This makes it ideal for studying stellar clusters like the Pleiades.\n",
    "\n",
    "### Target Coordinates\n",
    "- **Pleiades Center**: RA = 56.87°, Dec = 24.11° ([ICRS](https://en.wikipedia.org/wiki/International_Celestial_Reference_System)).\n",
    "- **Radius**: 1 degree (to capture cluster members and background/foreground stars)."
   ]
  },
  {
   "cell_type": "code",
   "execution_count": 2,
   "metadata": {},
   "outputs": [],
   "source": [
    "# Configuration\n",
    "vizier = Vizier()\n",
    "\n",
    "vizier.ROW_LIMIT = -1 # Disable row limit\n",
    "catalog = \"I/355/gaiadr3\" # Gaia DR3 catalog ID\n",
    "pleiades_ra, pleiades_dec = 56.87, 24.11 # Pleiades' ICRS coordinates"
   ]
  },
  {
   "cell_type": "markdown",
   "metadata": {},
   "source": [
    "### Step 2: Fetch data"
   ]
  },
  {
   "cell_type": "code",
   "execution_count": 3,
   "metadata": {},
   "outputs": [
    {
     "name": "stderr",
     "output_type": "stream",
     "text": [
      "WARNING: InputWarning: Coordinate string is being interpreted as an ICRS coordinate provided in degrees. [astroquery.utils.commons]\n"
     ]
    }
   ],
   "source": [
    "# Fetch data within 1-degree radius\n",
    "pleiades_ra_dec = f\"{pleiades_ra} {pleiades_dec}\"\n",
    "\n",
    "result = vizier.query_region(\n",
    "    pleiades_ra_dec,\n",
    "    radius=\"1d\",  # Radius of 1 degree\n",
    "    catalog=catalog\n",
    ")"
   ]
  },
  {
   "cell_type": "markdown",
   "metadata": {},
   "source": [
    "A `User Warning` about coordinate interpretation is expected because we pass a string in degrees. This does not affect results."
   ]
  },
  {
   "cell_type": "code",
   "execution_count": 4,
   "metadata": {},
   "outputs": [
    {
     "data": {
      "text/plain": [
       "TableList with 1 tables:\n",
       "\t'0:I/355/gaiadr3' with 57 column(s) and 27954 row(s) "
      ]
     },
     "execution_count": 4,
     "metadata": {},
     "output_type": "execute_result"
    }
   ],
   "source": [
    "result"
   ]
  },
  {
   "cell_type": "code",
   "execution_count": 5,
   "metadata": {},
   "outputs": [
    {
     "data": {
      "text/html": [
       "<div><i>Table length=27954</i>\n",
       "<table id=\"table125702674444176\" class=\"table-striped table-bordered table-condensed\">\n",
       "<thead><tr><th>RA_ICRS</th><th>DE_ICRS</th><th>Source</th><th>e_RA_ICRS</th><th>e_DE_ICRS</th><th>Plx</th><th>e_Plx</th><th>PM</th><th>pmRA</th><th>e_pmRA</th><th>pmDE</th><th>e_pmDE</th><th>RUWE</th><th>FG</th><th>e_FG</th><th>Gmag</th><th>FBP</th><th>e_FBP</th><th>BPmag</th><th>FRP</th><th>e_FRP</th><th>RPmag</th><th>BP-RP</th><th>RV</th><th>e_RV</th><th>Vbroad</th><th>GRVSmag</th><th>QSO</th><th>Gal</th><th>NSS</th><th>XPcont</th><th>XPsamp</th><th>RVS</th><th>EpochPh</th><th>EpochRV</th><th>MCMCGSP</th><th>MCMCMSC</th><th>And</th><th>Teff</th><th>logg</th><th>[Fe/H]</th><th>Dist</th><th>A0</th><th>HIP</th><th>PS1</th><th>SDSS13</th><th>SKYM2</th><th>TYC2</th><th>URAT1</th><th>AllWISE</th><th>APASS9</th><th>GSC23</th><th>RAVE5</th><th>2MASS</th><th>RAVE6</th><th>RAJ2000</th><th>DEJ2000</th></tr></thead>\n",
       "<thead><tr><th>deg</th><th>deg</th><th></th><th>mas</th><th>mas</th><th>mas</th><th>mas</th><th>mas / yr</th><th>mas / yr</th><th>mas / yr</th><th>mas / yr</th><th>mas / yr</th><th></th><th></th><th></th><th>mag</th><th></th><th></th><th>mag</th><th></th><th></th><th>mag</th><th>mag</th><th>km / s</th><th>km / s</th><th>km / s</th><th>mag</th><th></th><th></th><th></th><th></th><th></th><th></th><th></th><th></th><th></th><th></th><th></th><th>K</th><th>log(cm.s**-2)</th><th></th><th>pc</th><th>mag</th><th></th><th></th><th></th><th></th><th></th><th></th><th></th><th></th><th></th><th></th><th></th><th></th><th>deg</th><th>deg</th></tr></thead>\n",
       "<thead><tr><th>float64</th><th>float64</th><th>int64</th><th>float64</th><th>float64</th><th>float64</th><th>float32</th><th>float64</th><th>float64</th><th>float32</th><th>float64</th><th>float32</th><th>float64</th><th>float64</th><th>float32</th><th>float64</th><th>float32</th><th>float32</th><th>float64</th><th>float32</th><th>float32</th><th>float64</th><th>float64</th><th>float64</th><th>float32</th><th>float64</th><th>float64</th><th>uint8</th><th>uint8</th><th>uint8</th><th>uint8</th><th>uint8</th><th>uint8</th><th>uint8</th><th>uint8</th><th>uint8</th><th>uint8</th><th>uint8</th><th>float64</th><th>float64</th><th>float64</th><th>float64</th><th>float64</th><th>int32</th><th>int64</th><th>int64</th><th>int32</th><th>str12</th><th>str15</th><th>str19</th><th>int32</th><th>str10</th><th>str16</th><th>str17</th><th>str21</th><th>float64</th><th>float64</th></tr></thead>\n",
       "<tr><td>56.29970655907</td><td>23.26100088624</td><td>64878779542177920</td><td>0.4013</td><td>0.2921</td><td>0.2190</td><td>0.4557</td><td>2.859</td><td>2.721</td><td>0.595</td><td>-0.875</td><td>0.363</td><td>1.098</td><td>275.57098</td><td>1.196</td><td>19.586782</td><td>112.9</td><td>6.887</td><td>20.207155</td><td>225.8</td><td>10.91</td><td>18.863811</td><td>1.343344</td><td>--</td><td>--</td><td>--</td><td>--</td><td>0</td><td>0</td><td>0</td><td>0</td><td>0</td><td>0</td><td>0</td><td>0</td><td>0</td><td>0</td><td>0</td><td>--</td><td>--</td><td>--</td><td>--</td><td>--</td><td>--</td><td>135910562997343759</td><td>--</td><td>--</td><td></td><td></td><td></td><td>--</td><td>NC3R001125</td><td></td><td></td><td></td><td>56.29969339355</td><td>23.26100477401</td></tr>\n",
       "<tr><td>56.31187534304</td><td>23.25615636617</td><td>64878779542180096</td><td>0.5357</td><td>0.3904</td><td>0.8742</td><td>0.6493</td><td>5.453</td><td>-1.735</td><td>0.871</td><td>-5.170</td><td>0.487</td><td>0.984</td><td>188.11929</td><td>0.9717</td><td>20.001284</td><td>61.05</td><td>8.187</td><td>20.874315</td><td>200.2</td><td>12.21</td><td>18.994102</td><td>1.880213</td><td>--</td><td>--</td><td>--</td><td>--</td><td>0</td><td>0</td><td>0</td><td>0</td><td>0</td><td>0</td><td>0</td><td>0</td><td>0</td><td>0</td><td>0</td><td>--</td><td>--</td><td>--</td><td>--</td><td>--</td><td>--</td><td>135900563119097937</td><td>--</td><td>--</td><td></td><td></td><td></td><td>--</td><td>NC3R002264</td><td></td><td></td><td></td><td>56.31188373645</td><td>23.25617934188</td></tr>\n",
       "<tr><td>56.30543515160</td><td>23.26484284000</td><td>64878779542260864</td><td>1.0335</td><td>0.7541</td><td>2.6486</td><td>1.1043</td><td>19.280</td><td>0.152</td><td>1.829</td><td>-19.280</td><td>0.918</td><td>1.064</td><td>122.81044</td><td>1.642</td><td>20.464280</td><td>49.71</td><td>8.23</td><td>21.097471</td><td>186.7</td><td>14.43</td><td>19.070179</td><td>2.027292</td><td>--</td><td>--</td><td>--</td><td>--</td><td>0</td><td>0</td><td>0</td><td>0</td><td>0</td><td>0</td><td>0</td><td>0</td><td>0</td><td>0</td><td>0</td><td>--</td><td>--</td><td>--</td><td>--</td><td>--</td><td>--</td><td>135910563054748477</td><td>--</td><td>--</td><td></td><td></td><td>J034513.30+231553.6</td><td>--</td><td></td><td></td><td>03451333+2315539</td><td></td><td>56.30543441548</td><td>23.26492852824</td></tr>\n",
       "<tr><td>56.28885509191</td><td>23.27596376545</td><td>64879604175898624</td><td>0.1305</td><td>0.0950</td><td>0.1802</td><td>0.1463</td><td>11.835</td><td>6.824</td><td>0.185</td><td>-9.670</td><td>0.121</td><td>1.008</td><td>1191.05275</td><td>1.683</td><td>17.997540</td><td>560</td><td>10.16</td><td>18.467978</td><td>880</td><td>10.07</td><td>17.386631</td><td>1.081346</td><td>--</td><td>--</td><td>--</td><td>--</td><td>0</td><td>0</td><td>0</td><td>0</td><td>0</td><td>0</td><td>0</td><td>0</td><td>1</td><td>1</td><td>0</td><td>4939.8</td><td>4.7814</td><td>-2.3683</td><td>1544.3237</td><td>0.0292</td><td>--</td><td>135930562888691737</td><td>--</td><td>--</td><td></td><td>URAT1-567028005</td><td>J034509.31+231633.2</td><td>--</td><td>NC3R001123</td><td></td><td>03450931+2316336</td><td></td><td>56.28882207756</td><td>23.27600674439</td></tr>\n",
       "<tr><td>56.27559048728</td><td>23.27885146249</td><td>64879608470745984</td><td>0.7507</td><td>0.5688</td><td>-0.3159</td><td>0.9182</td><td>3.107</td><td>-2.950</td><td>1.274</td><td>-0.975</td><td>0.699</td><td>0.998</td><td>133.42777</td><td>1.072</td><td>20.374250</td><td>60.69</td><td>12.46</td><td>20.880724</td><td>109.2</td><td>12.17</td><td>19.652622</td><td>1.228102</td><td>--</td><td>--</td><td>--</td><td>--</td><td>0</td><td>0</td><td>0</td><td>0</td><td>0</td><td>0</td><td>0</td><td>0</td><td>0</td><td>0</td><td>0</td><td>--</td><td>--</td><td>--</td><td>--</td><td>--</td><td>--</td><td>135930562756285187</td><td>--</td><td>--</td><td></td><td></td><td></td><td>--</td><td>NC3R002484</td><td></td><td></td><td></td><td>56.27560476142</td><td>23.27885579510</td></tr>\n",
       "<tr><td>56.26915181062</td><td>23.27549627972</td><td>64879642830595712</td><td>2.6329</td><td>2.0902</td><td>--</td><td>--</td><td>--</td><td>--</td><td>--</td><td>--</td><td>--</td><td>--</td><td>81.25938</td><td>1.223</td><td>20.912683</td><td>47.88</td><td>15.12</td><td>21.138159</td><td>110.1</td><td>17.28</td><td>19.643484</td><td>1.494675</td><td>--</td><td>--</td><td>--</td><td>--</td><td>0</td><td>0</td><td>0</td><td>0</td><td>0</td><td>0</td><td>0</td><td>0</td><td>0</td><td>0</td><td>0</td><td>--</td><td>--</td><td>--</td><td>--</td><td>--</td><td>--</td><td>135930562691941172</td><td>--</td><td>--</td><td></td><td></td><td></td><td>--</td><td></td><td></td><td></td><td></td><td>56.26915181062</td><td>23.27549627972</td></tr>\n",
       "<tr><td>56.27480840954</td><td>23.28176848536</td><td>64879672895376256</td><td>0.2407</td><td>0.1686</td><td>0.3975</td><td>0.2760</td><td>3.140</td><td>-0.691</td><td>0.344</td><td>-3.063</td><td>0.205</td><td>1.125</td><td>690.30101</td><td>1.513</td><td>18.589771</td><td>303.5</td><td>9.319</td><td>19.133230</td><td>522.5</td><td>10.54</td><td>17.952698</td><td>1.180532</td><td>--</td><td>--</td><td>--</td><td>--</td><td>0</td><td>0</td><td>0</td><td>0</td><td>0</td><td>0</td><td>0</td><td>0</td><td>1</td><td>0</td><td>0</td><td>4556.2</td><td>4.8610</td><td>-1.4192</td><td>1513.5316</td><td>0.0053</td><td>--</td><td>135930562748398687</td><td>--</td><td>--</td><td></td><td>URAT1-567027998</td><td></td><td>--</td><td>NC3R001151</td><td></td><td></td><td></td><td>56.27481175082</td><td>23.28178210047</td></tr>\n",
       "<tr><td>56.27001240205</td><td>23.28184658425</td><td>64879672895376640</td><td>0.2812</td><td>0.2063</td><td>1.6016</td><td>0.3162</td><td>29.786</td><td>25.935</td><td>0.433</td><td>-14.649</td><td>0.251</td><td>1.105</td><td>512.07012</td><td>1.392</td><td>18.914043</td><td>72.48</td><td>5.137</td><td>20.688047</td><td>655.2</td><td>10.19</td><td>17.706924</td><td>2.981123</td><td>--</td><td>--</td><td>--</td><td>--</td><td>0</td><td>0</td><td>0</td><td>0</td><td>0</td><td>0</td><td>0</td><td>0</td><td>1</td><td>0</td><td>0</td><td>3291.4</td><td>4.9633</td><td>-0.2035</td><td>371.0366</td><td>0.5355</td><td>--</td><td>135930562699838803</td><td>--</td><td>--</td><td></td><td>URAT1-567027994</td><td>J034504.79+231654.7</td><td>--</td><td>NC3R001158</td><td></td><td>03450478+2316549</td><td></td><td>56.26988691887</td><td>23.28191169119</td></tr>\n",
       "<tr><td>56.27350772077</td><td>23.29409853091</td><td>64879672895379200</td><td>0.0809</td><td>0.0580</td><td>2.2309</td><td>0.0893</td><td>90.705</td><td>24.736</td><td>0.111</td><td>-87.267</td><td>0.071</td><td>0.995</td><td>2685.48168</td><td>2.458</td><td>17.114810</td><td>748.9</td><td>9.855</td><td>18.152431</td><td>2811</td><td>13.44</td><td>16.125580</td><td>2.026852</td><td>--</td><td>--</td><td>--</td><td>--</td><td>0</td><td>0</td><td>0</td><td>1</td><td>0</td><td>0</td><td>0</td><td>0</td><td>1</td><td>1</td><td>0</td><td>4277.5</td><td>4.6363</td><td>-0.1009</td><td>573.3726</td><td>1.3041</td><td>--</td><td>135950562734883658</td><td>--</td><td>--</td><td></td><td>URAT1-567027997</td><td>J034505.62+231739.2</td><td>--</td><td>NC3R002605</td><td></td><td>03450562+2317402</td><td></td><td>56.27338802683</td><td>23.29448638534</td></tr>\n",
       "<tr><td>...</td><td>...</td><td>...</td><td>...</td><td>...</td><td>...</td><td>...</td><td>...</td><td>...</td><td>...</td><td>...</td><td>...</td><td>...</td><td>...</td><td>...</td><td>...</td><td>...</td><td>...</td><td>...</td><td>...</td><td>...</td><td>...</td><td>...</td><td>...</td><td>...</td><td>...</td><td>...</td><td>...</td><td>...</td><td>...</td><td>...</td><td>...</td><td>...</td><td>...</td><td>...</td><td>...</td><td>...</td><td>...</td><td>...</td><td>...</td><td>...</td><td>...</td><td>...</td><td>...</td><td>...</td><td>...</td><td>...</td><td>...</td><td>...</td><td>...</td><td>...</td><td>...</td><td>...</td><td>...</td><td>...</td><td>...</td><td>...</td></tr>\n",
       "<tr><td>56.72270303044</td><td>25.09468782117</td><td>69843796095771776</td><td>0.7437</td><td>0.5099</td><td>-0.1195</td><td>0.9151</td><td>2.513</td><td>2.315</td><td>0.934</td><td>0.978</td><td>0.648</td><td>1.021</td><td>139.00068</td><td>0.8361</td><td>20.329824</td><td>47.08</td><td>7.857</td><td>21.156471</td><td>137.2</td><td>14.81</td><td>19.404285</td><td>1.752186</td><td>--</td><td>--</td><td>--</td><td>--</td><td>0</td><td>0</td><td>0</td><td>0</td><td>0</td><td>0</td><td>0</td><td>0</td><td>0</td><td>0</td><td>0</td><td>--</td><td>--</td><td>--</td><td>--</td><td>--</td><td>--</td><td>138110567226954200</td><td>--</td><td>--</td><td></td><td></td><td></td><td>--</td><td>NCGB001644</td><td></td><td></td><td></td><td>56.72269167086</td><td>25.09468347256</td></tr>\n",
       "<tr><td>56.73131550002</td><td>25.09916701767</td><td>69843834750584192</td><td>1.5436</td><td>1.1093</td><td>2.0524</td><td>1.7816</td><td>7.772</td><td>7.479</td><td>2.159</td><td>-2.114</td><td>1.990</td><td>1.123</td><td>95.74755</td><td>1.187</td><td>20.734549</td><td>59.35</td><td>15.27</td><td>20.904915</td><td>135.9</td><td>11.66</td><td>19.414444</td><td>1.490471</td><td>--</td><td>--</td><td>--</td><td>--</td><td>0</td><td>0</td><td>0</td><td>0</td><td>0</td><td>0</td><td>0</td><td>0</td><td>0</td><td>0</td><td>0</td><td>--</td><td>--</td><td>--</td><td>--</td><td>--</td><td>--</td><td>138110567312919526</td><td>--</td><td>--</td><td></td><td></td><td>J034655.51+250556.5</td><td>--</td><td></td><td></td><td></td><td></td><td>56.73127879541</td><td>25.09917641129</td></tr>\n",
       "<tr><td>56.75822440324</td><td>25.10333066184</td><td>69843869110308480</td><td>0.6720</td><td>0.4618</td><td>0.9613</td><td>0.8288</td><td>3.852</td><td>0.759</td><td>0.920</td><td>-3.777</td><td>0.652</td><td>0.965</td><td>164.62556</td><td>1.018</td><td>20.146124</td><td>65.81</td><td>10.27</td><td>20.792807</td><td>154.1</td><td>9.415</td><td>19.278011</td><td>1.514795</td><td>--</td><td>--</td><td>--</td><td>--</td><td>0</td><td>0</td><td>0</td><td>0</td><td>0</td><td>0</td><td>0</td><td>0</td><td>0</td><td>0</td><td>0</td><td>--</td><td>--</td><td>--</td><td>--</td><td>--</td><td>--</td><td>138120567581824552</td><td>--</td><td>--</td><td></td><td></td><td></td><td>--</td><td>NCGB001671</td><td></td><td></td><td></td><td>56.75822067674</td><td>25.10334744633</td></tr>\n",
       "<tr><td>56.63791543825</td><td>25.08532953631</td><td>69844281427183104</td><td>0.9077</td><td>0.6036</td><td>2.2820</td><td>1.0638</td><td>43.051</td><td>29.989</td><td>1.029</td><td>-30.888</td><td>0.819</td><td>1.143</td><td>160.43320</td><td>0.9647</td><td>20.174131</td><td>45.87</td><td>7.543</td><td>21.184662</td><td>215.8</td><td>13.27</td><td>18.912632</td><td>2.272030</td><td>--</td><td>--</td><td>--</td><td>--</td><td>0</td><td>0</td><td>0</td><td>0</td><td>0</td><td>0</td><td>0</td><td>0</td><td>0</td><td>0</td><td>0</td><td>--</td><td>--</td><td>--</td><td>--</td><td>--</td><td>--</td><td>138100566378732959</td><td>--</td><td>--</td><td></td><td></td><td>J034633.08+250507.4</td><td>--</td><td>NCGB025974</td><td></td><td>03463307+2505077</td><td></td><td>56.63776827435</td><td>25.08546681601</td></tr>\n",
       "<tr><td>56.51984752368</td><td>25.04294855703</td><td>69845376643721216</td><td>0.7510</td><td>0.5268</td><td>0.2861</td><td>0.8916</td><td>3.275</td><td>1.258</td><td>0.938</td><td>-3.023</td><td>0.760</td><td>1.121</td><td>126.08046</td><td>0.8281</td><td>20.435747</td><td>55.38</td><td>5.564</td><td>20.980057</td><td>153.3</td><td>8.773</td><td>19.283829</td><td>1.696228</td><td>--</td><td>--</td><td>--</td><td>--</td><td>0</td><td>0</td><td>0</td><td>0</td><td>0</td><td>0</td><td>0</td><td>0</td><td>0</td><td>0</td><td>0</td><td>--</td><td>--</td><td>--</td><td>--</td><td>--</td><td>--</td><td>138050565198402118</td><td>--</td><td>--</td><td></td><td></td><td></td><td>--</td><td>NCGB001493</td><td></td><td></td><td></td><td>56.51984135446</td><td>25.04296199474</td></tr>\n",
       "<tr><td>56.51471563144</td><td>25.04755382714</td><td>69845376643722880</td><td>0.1993</td><td>0.1575</td><td>2.1268</td><td>0.2264</td><td>14.266</td><td>6.263</td><td>0.274</td><td>-12.818</td><td>0.205</td><td>1.013</td><td>590.76430</td><td>1.317</td><td>18.758831</td><td>111.5</td><td>8.738</td><td>20.220356</td><td>756.9</td><td>15.74</td><td>17.550255</td><td>2.670101</td><td>--</td><td>--</td><td>--</td><td>--</td><td>0</td><td>0</td><td>0</td><td>0</td><td>0</td><td>0</td><td>0</td><td>0</td><td>1</td><td>0</td><td>0</td><td>3265.1</td><td>4.6093</td><td>-1.0794</td><td>303.1649</td><td>0.6740</td><td>--</td><td>138050565146697659</td><td>--</td><td>--</td><td></td><td>URAT1-576030310</td><td>J034603.51+250250.9</td><td>--</td><td>NCGB001508</td><td></td><td>03460352+2502514</td><td></td><td>56.51468490507</td><td>25.04761079472</td></tr>\n",
       "<tr><td>56.50983906740</td><td>25.04598815992</td><td>69845380938946816</td><td>1.0399</td><td>0.9263</td><td>-2.0343</td><td>1.2300</td><td>2.049</td><td>-1.053</td><td>1.652</td><td>1.757</td><td>1.333</td><td>1.021</td><td>100.41726</td><td>0.9723</td><td>20.682846</td><td>53.87</td><td>15.22</td><td>21.010134</td><td>101.9</td><td>19.3</td><td>19.727232</td><td>1.282902</td><td>--</td><td>--</td><td>--</td><td>--</td><td>0</td><td>0</td><td>0</td><td>0</td><td>0</td><td>0</td><td>0</td><td>0</td><td>0</td><td>0</td><td>0</td><td>--</td><td>--</td><td>--</td><td>--</td><td>--</td><td>--</td><td>138050565098505768</td><td>--</td><td>--</td><td></td><td></td><td></td><td>--</td><td>NCGB001501</td><td></td><td></td><td></td><td>56.50984423253</td><td>25.04598034907</td></tr>\n",
       "<tr><td>56.50241376884</td><td>25.05089335176</td><td>69845449659259776</td><td>0.0231</td><td>0.0178</td><td>0.7171</td><td>0.0259</td><td>3.950</td><td>1.195</td><td>0.029</td><td>-3.765</td><td>0.022</td><td>1.008</td><td>21072.52604</td><td>5.906</td><td>14.878076</td><td>1.076e+04</td><td>18.81</td><td>15.259505</td><td>1.482e+04</td><td>19.86</td><td>14.320570</td><td>0.938935</td><td>--</td><td>--</td><td>--</td><td>--</td><td>0</td><td>0</td><td>0</td><td>1</td><td>1</td><td>0</td><td>0</td><td>0</td><td>1</td><td>1</td><td>0</td><td>6000.6</td><td>4.0863</td><td>-0.7243</td><td>1302.3651</td><td>0.5187</td><td>--</td><td>138060565023801641</td><td>--</td><td>--</td><td></td><td>URAT1-576030300</td><td></td><td>--</td><td>NCGB000190</td><td></td><td>03460057+2503033</td><td></td><td>56.50240790805</td><td>25.05091008681</td></tr>\n",
       "<tr><td>56.54195191688</td><td>25.06184579418</td><td>69845518377900672</td><td>3.9998</td><td>1.9720</td><td>--</td><td>--</td><td>--</td><td>--</td><td>--</td><td>--</td><td>--</td><td>--</td><td>91.16472</td><td>2.14</td><td>20.787800</td><td>46.6</td><td>8.651</td><td>21.167633</td><td>97.26</td><td>15.55</td><td>19.778015</td><td>1.389618</td><td>--</td><td>--</td><td>--</td><td>--</td><td>0</td><td>0</td><td>0</td><td>0</td><td>0</td><td>0</td><td>0</td><td>0</td><td>0</td><td>0</td><td>0</td><td>--</td><td>--</td><td>--</td><td>--</td><td>--</td><td>--</td><td>138070565419444786</td><td>--</td><td>--</td><td></td><td></td><td></td><td>--</td><td></td><td></td><td></td><td></td><td>56.54195191688</td><td>25.06184579418</td></tr>\n",
       "</table></div>"
      ],
      "text/plain": [
       "<Table length=27954>\n",
       "    RA_ICRS         DE_ICRS     ...     RAJ2000         DEJ2000    \n",
       "      deg             deg       ...       deg             deg      \n",
       "    float64         float64     ...     float64         float64    \n",
       "--------------- --------------- ... --------------- ---------------\n",
       " 56.29970655907  23.26100088624 ...  56.29969339355  23.26100477401\n",
       " 56.31187534304  23.25615636617 ...  56.31188373645  23.25617934188\n",
       " 56.30543515160  23.26484284000 ...  56.30543441548  23.26492852824\n",
       " 56.28885509191  23.27596376545 ...  56.28882207756  23.27600674439\n",
       " 56.27559048728  23.27885146249 ...  56.27560476142  23.27885579510\n",
       " 56.26915181062  23.27549627972 ...  56.26915181062  23.27549627972\n",
       " 56.27480840954  23.28176848536 ...  56.27481175082  23.28178210047\n",
       " 56.27001240205  23.28184658425 ...  56.26988691887  23.28191169119\n",
       " 56.27350772077  23.29409853091 ...  56.27338802683  23.29448638534\n",
       "            ...             ... ...             ...             ...\n",
       " 56.72270303044  25.09468782117 ...  56.72269167086  25.09468347256\n",
       " 56.73131550002  25.09916701767 ...  56.73127879541  25.09917641129\n",
       " 56.75822440324  25.10333066184 ...  56.75822067674  25.10334744633\n",
       " 56.63791543825  25.08532953631 ...  56.63776827435  25.08546681601\n",
       " 56.51984752368  25.04294855703 ...  56.51984135446  25.04296199474\n",
       " 56.51471563144  25.04755382714 ...  56.51468490507  25.04761079472\n",
       " 56.50983906740  25.04598815992 ...  56.50984423253  25.04598034907\n",
       " 56.50241376884  25.05089335176 ...  56.50240790805  25.05091008681\n",
       " 56.54195191688  25.06184579418 ...  56.54195191688  25.06184579418"
      ]
     },
     "execution_count": 5,
     "metadata": {},
     "output_type": "execute_result"
    }
   ],
   "source": [
    "result[0]"
   ]
  },
  {
   "cell_type": "markdown",
   "metadata": {},
   "source": [
    "### Step 3: Convert to DataFrame and select key columns"
   ]
  },
  {
   "cell_type": "markdown",
   "metadata": {},
   "source": [
    "Column Rationale:\n",
    "\n",
    "- `RA_ICRS`, `DE_ICRS`: Celestial coordinates.\n",
    "\n",
    "- `Plx`, `e_Plx`: Parallax and its error (critical for distance estimation). Parallax is the shift in position from Earth's perspective.\n",
    "\n",
    "- `pmRA`, `pmDE`: Proper motions (to identify cluster members).\n",
    "\n",
    "- `Gmag`, `BPmag`, `RPmag`: Photometric magnitudes (for color-magnitude diagrams)."
   ]
  },
  {
   "cell_type": "code",
   "execution_count": 6,
   "metadata": {},
   "outputs": [
    {
     "data": {
      "text/html": [
       "<div>\n",
       "<style scoped>\n",
       "    .dataframe tbody tr th:only-of-type {\n",
       "        vertical-align: middle;\n",
       "    }\n",
       "\n",
       "    .dataframe tbody tr th {\n",
       "        vertical-align: top;\n",
       "    }\n",
       "\n",
       "    .dataframe thead th {\n",
       "        text-align: right;\n",
       "    }\n",
       "</style>\n",
       "<table border=\"1\" class=\"dataframe\">\n",
       "  <thead>\n",
       "    <tr style=\"text-align: right;\">\n",
       "      <th></th>\n",
       "      <th>RA_ICRS</th>\n",
       "      <th>DE_ICRS</th>\n",
       "      <th>Source</th>\n",
       "      <th>e_RA_ICRS</th>\n",
       "      <th>e_DE_ICRS</th>\n",
       "      <th>Plx</th>\n",
       "      <th>e_Plx</th>\n",
       "      <th>PM</th>\n",
       "      <th>pmRA</th>\n",
       "      <th>e_pmRA</th>\n",
       "      <th>...</th>\n",
       "      <th>TYC2</th>\n",
       "      <th>URAT1</th>\n",
       "      <th>AllWISE</th>\n",
       "      <th>APASS9</th>\n",
       "      <th>GSC23</th>\n",
       "      <th>RAVE5</th>\n",
       "      <th>2MASS</th>\n",
       "      <th>RAVE6</th>\n",
       "      <th>RAJ2000</th>\n",
       "      <th>DEJ2000</th>\n",
       "    </tr>\n",
       "  </thead>\n",
       "  <tbody>\n",
       "    <tr>\n",
       "      <th>0</th>\n",
       "      <td>56.299707</td>\n",
       "      <td>23.261001</td>\n",
       "      <td>64878779542177920</td>\n",
       "      <td>0.4013</td>\n",
       "      <td>0.2921</td>\n",
       "      <td>0.2190</td>\n",
       "      <td>0.4557</td>\n",
       "      <td>2.859</td>\n",
       "      <td>2.721</td>\n",
       "      <td>0.595</td>\n",
       "      <td>...</td>\n",
       "      <td></td>\n",
       "      <td></td>\n",
       "      <td></td>\n",
       "      <td>&lt;NA&gt;</td>\n",
       "      <td>NC3R001125</td>\n",
       "      <td></td>\n",
       "      <td></td>\n",
       "      <td></td>\n",
       "      <td>56.299693</td>\n",
       "      <td>23.261005</td>\n",
       "    </tr>\n",
       "    <tr>\n",
       "      <th>1</th>\n",
       "      <td>56.311875</td>\n",
       "      <td>23.256156</td>\n",
       "      <td>64878779542180096</td>\n",
       "      <td>0.5357</td>\n",
       "      <td>0.3904</td>\n",
       "      <td>0.8742</td>\n",
       "      <td>0.6493</td>\n",
       "      <td>5.453</td>\n",
       "      <td>-1.735</td>\n",
       "      <td>0.871</td>\n",
       "      <td>...</td>\n",
       "      <td></td>\n",
       "      <td></td>\n",
       "      <td></td>\n",
       "      <td>&lt;NA&gt;</td>\n",
       "      <td>NC3R002264</td>\n",
       "      <td></td>\n",
       "      <td></td>\n",
       "      <td></td>\n",
       "      <td>56.311884</td>\n",
       "      <td>23.256179</td>\n",
       "    </tr>\n",
       "    <tr>\n",
       "      <th>2</th>\n",
       "      <td>56.305435</td>\n",
       "      <td>23.264843</td>\n",
       "      <td>64878779542260864</td>\n",
       "      <td>1.0335</td>\n",
       "      <td>0.7541</td>\n",
       "      <td>2.6486</td>\n",
       "      <td>1.1043</td>\n",
       "      <td>19.280</td>\n",
       "      <td>0.152</td>\n",
       "      <td>1.829</td>\n",
       "      <td>...</td>\n",
       "      <td></td>\n",
       "      <td></td>\n",
       "      <td>J034513.30+231553.6</td>\n",
       "      <td>&lt;NA&gt;</td>\n",
       "      <td></td>\n",
       "      <td></td>\n",
       "      <td>03451333+2315539</td>\n",
       "      <td></td>\n",
       "      <td>56.305434</td>\n",
       "      <td>23.264929</td>\n",
       "    </tr>\n",
       "  </tbody>\n",
       "</table>\n",
       "<p>3 rows × 57 columns</p>\n",
       "</div>"
      ],
      "text/plain": [
       "     RA_ICRS    DE_ICRS             Source  e_RA_ICRS  e_DE_ICRS     Plx  \\\n",
       "0  56.299707  23.261001  64878779542177920     0.4013     0.2921  0.2190   \n",
       "1  56.311875  23.256156  64878779542180096     0.5357     0.3904  0.8742   \n",
       "2  56.305435  23.264843  64878779542260864     1.0335     0.7541  2.6486   \n",
       "\n",
       "    e_Plx      PM   pmRA  e_pmRA  ...  TYC2  URAT1              AllWISE  \\\n",
       "0  0.4557   2.859  2.721   0.595  ...                                     \n",
       "1  0.6493   5.453 -1.735   0.871  ...                                     \n",
       "2  1.1043  19.280  0.152   1.829  ...               J034513.30+231553.6   \n",
       "\n",
       "   APASS9       GSC23  RAVE5             2MASS  RAVE6    RAJ2000    DEJ2000  \n",
       "0    <NA>  NC3R001125                                  56.299693  23.261005  \n",
       "1    <NA>  NC3R002264                                  56.311884  23.256179  \n",
       "2    <NA>                     03451333+2315539         56.305434  23.264929  \n",
       "\n",
       "[3 rows x 57 columns]"
      ]
     },
     "execution_count": 6,
     "metadata": {},
     "output_type": "execute_result"
    }
   ],
   "source": [
    "df = result[0].to_pandas()\n",
    "df.head(3)"
   ]
  },
  {
   "cell_type": "code",
   "execution_count": 7,
   "metadata": {},
   "outputs": [
    {
     "data": {
      "text/html": [
       "<div>\n",
       "<style scoped>\n",
       "    .dataframe tbody tr th:only-of-type {\n",
       "        vertical-align: middle;\n",
       "    }\n",
       "\n",
       "    .dataframe tbody tr th {\n",
       "        vertical-align: top;\n",
       "    }\n",
       "\n",
       "    .dataframe thead th {\n",
       "        text-align: right;\n",
       "    }\n",
       "</style>\n",
       "<table border=\"1\" class=\"dataframe\">\n",
       "  <thead>\n",
       "    <tr style=\"text-align: right;\">\n",
       "      <th></th>\n",
       "      <th>RA_ICRS</th>\n",
       "      <th>DE_ICRS</th>\n",
       "      <th>Plx</th>\n",
       "      <th>e_Plx</th>\n",
       "      <th>pmRA</th>\n",
       "      <th>pmDE</th>\n",
       "      <th>Gmag</th>\n",
       "      <th>BPmag</th>\n",
       "      <th>RPmag</th>\n",
       "    </tr>\n",
       "  </thead>\n",
       "  <tbody>\n",
       "    <tr>\n",
       "      <th>0</th>\n",
       "      <td>56.299707</td>\n",
       "      <td>23.261001</td>\n",
       "      <td>0.2190</td>\n",
       "      <td>0.4557</td>\n",
       "      <td>2.721</td>\n",
       "      <td>-0.875</td>\n",
       "      <td>19.586782</td>\n",
       "      <td>20.207155</td>\n",
       "      <td>18.863811</td>\n",
       "    </tr>\n",
       "    <tr>\n",
       "      <th>1</th>\n",
       "      <td>56.311875</td>\n",
       "      <td>23.256156</td>\n",
       "      <td>0.8742</td>\n",
       "      <td>0.6493</td>\n",
       "      <td>-1.735</td>\n",
       "      <td>-5.170</td>\n",
       "      <td>20.001284</td>\n",
       "      <td>20.874315</td>\n",
       "      <td>18.994102</td>\n",
       "    </tr>\n",
       "    <tr>\n",
       "      <th>2</th>\n",
       "      <td>56.305435</td>\n",
       "      <td>23.264843</td>\n",
       "      <td>2.6486</td>\n",
       "      <td>1.1043</td>\n",
       "      <td>0.152</td>\n",
       "      <td>-19.280</td>\n",
       "      <td>20.464280</td>\n",
       "      <td>21.097471</td>\n",
       "      <td>19.070179</td>\n",
       "    </tr>\n",
       "    <tr>\n",
       "      <th>3</th>\n",
       "      <td>56.288855</td>\n",
       "      <td>23.275964</td>\n",
       "      <td>0.1802</td>\n",
       "      <td>0.1463</td>\n",
       "      <td>6.824</td>\n",
       "      <td>-9.670</td>\n",
       "      <td>17.997540</td>\n",
       "      <td>18.467978</td>\n",
       "      <td>17.386631</td>\n",
       "    </tr>\n",
       "    <tr>\n",
       "      <th>4</th>\n",
       "      <td>56.275590</td>\n",
       "      <td>23.278851</td>\n",
       "      <td>-0.3159</td>\n",
       "      <td>0.9182</td>\n",
       "      <td>-2.950</td>\n",
       "      <td>-0.975</td>\n",
       "      <td>20.374250</td>\n",
       "      <td>20.880724</td>\n",
       "      <td>19.652622</td>\n",
       "    </tr>\n",
       "  </tbody>\n",
       "</table>\n",
       "</div>"
      ],
      "text/plain": [
       "     RA_ICRS    DE_ICRS     Plx   e_Plx   pmRA    pmDE       Gmag      BPmag  \\\n",
       "0  56.299707  23.261001  0.2190  0.4557  2.721  -0.875  19.586782  20.207155   \n",
       "1  56.311875  23.256156  0.8742  0.6493 -1.735  -5.170  20.001284  20.874315   \n",
       "2  56.305435  23.264843  2.6486  1.1043  0.152 -19.280  20.464280  21.097471   \n",
       "3  56.288855  23.275964  0.1802  0.1463  6.824  -9.670  17.997540  18.467978   \n",
       "4  56.275590  23.278851 -0.3159  0.9182 -2.950  -0.975  20.374250  20.880724   \n",
       "\n",
       "       RPmag  \n",
       "0  18.863811  \n",
       "1  18.994102  \n",
       "2  19.070179  \n",
       "3  17.386631  \n",
       "4  19.652622  "
      ]
     },
     "execution_count": 7,
     "metadata": {},
     "output_type": "execute_result"
    }
   ],
   "source": [
    "columns_need = ['RA_ICRS', 'DE_ICRS', 'Plx', 'e_Plx', 'pmRA', 'pmDE', 'Gmag', 'BPmag', 'RPmag']\n",
    "df = df[columns_need]\n",
    "df.head()"
   ]
  },
  {
   "cell_type": "markdown",
   "metadata": {},
   "source": [
    "### Step 4: Save the data"
   ]
  },
  {
   "cell_type": "markdown",
   "metadata": {},
   "source": [
    "The cleaned dataset is saved to `../data/raw/` for reproducibility in subsequent analyses."
   ]
  },
  {
   "cell_type": "code",
   "execution_count": 8,
   "metadata": {},
   "outputs": [],
   "source": [
    "df.to_csv(\"../data/raw/pleiades_gaia_cleaned.csv\", index=False)"
   ]
  },
  {
   "cell_type": "markdown",
   "metadata": {},
   "source": [
    "---"
   ]
  },
  {
   "cell_type": "markdown",
   "metadata": {},
   "source": [
    "## Cleaning and transforming the data"
   ]
  },
  {
   "cell_type": "markdown",
   "metadata": {},
   "source": [
    "### Step 5: Convert RA/Dec to Galactic coordinates"
   ]
  },
  {
   "cell_type": "markdown",
   "metadata": {},
   "source": [
    "Converting to Galactic coordinates aligns data with the structure of the Milky Way, making future analyses more intuitive."
   ]
  },
  {
   "cell_type": "code",
   "execution_count": 9,
   "metadata": {},
   "outputs": [
    {
     "data": {
      "text/html": [
       "<div>\n",
       "<style scoped>\n",
       "    .dataframe tbody tr th:only-of-type {\n",
       "        vertical-align: middle;\n",
       "    }\n",
       "\n",
       "    .dataframe tbody tr th {\n",
       "        vertical-align: top;\n",
       "    }\n",
       "\n",
       "    .dataframe thead th {\n",
       "        text-align: right;\n",
       "    }\n",
       "</style>\n",
       "<table border=\"1\" class=\"dataframe\">\n",
       "  <thead>\n",
       "    <tr style=\"text-align: right;\">\n",
       "      <th></th>\n",
       "      <th>RA_ICRS</th>\n",
       "      <th>DE_ICRS</th>\n",
       "      <th>Plx</th>\n",
       "      <th>e_Plx</th>\n",
       "      <th>pmRA</th>\n",
       "      <th>pmDE</th>\n",
       "      <th>Gmag</th>\n",
       "      <th>BPmag</th>\n",
       "      <th>RPmag</th>\n",
       "    </tr>\n",
       "  </thead>\n",
       "  <tbody>\n",
       "    <tr>\n",
       "      <th>0</th>\n",
       "      <td>56.299707</td>\n",
       "      <td>23.261001</td>\n",
       "      <td>0.2190</td>\n",
       "      <td>0.4557</td>\n",
       "      <td>2.721</td>\n",
       "      <td>-0.875</td>\n",
       "      <td>19.586782</td>\n",
       "      <td>20.207155</td>\n",
       "      <td>18.863811</td>\n",
       "    </tr>\n",
       "    <tr>\n",
       "      <th>1</th>\n",
       "      <td>56.311875</td>\n",
       "      <td>23.256156</td>\n",
       "      <td>0.8742</td>\n",
       "      <td>0.6493</td>\n",
       "      <td>-1.735</td>\n",
       "      <td>-5.170</td>\n",
       "      <td>20.001284</td>\n",
       "      <td>20.874315</td>\n",
       "      <td>18.994102</td>\n",
       "    </tr>\n",
       "    <tr>\n",
       "      <th>2</th>\n",
       "      <td>56.305435</td>\n",
       "      <td>23.264843</td>\n",
       "      <td>2.6486</td>\n",
       "      <td>1.1043</td>\n",
       "      <td>0.152</td>\n",
       "      <td>-19.280</td>\n",
       "      <td>20.464280</td>\n",
       "      <td>21.097471</td>\n",
       "      <td>19.070179</td>\n",
       "    </tr>\n",
       "  </tbody>\n",
       "</table>\n",
       "</div>"
      ],
      "text/plain": [
       "     RA_ICRS    DE_ICRS     Plx   e_Plx   pmRA    pmDE       Gmag      BPmag  \\\n",
       "0  56.299707  23.261001  0.2190  0.4557  2.721  -0.875  19.586782  20.207155   \n",
       "1  56.311875  23.256156  0.8742  0.6493 -1.735  -5.170  20.001284  20.874315   \n",
       "2  56.305435  23.264843  2.6486  1.1043  0.152 -19.280  20.464280  21.097471   \n",
       "\n",
       "       RPmag  \n",
       "0  18.863811  \n",
       "1  18.994102  \n",
       "2  19.070179  "
      ]
     },
     "execution_count": 9,
     "metadata": {},
     "output_type": "execute_result"
    }
   ],
   "source": [
    "# We load the raw data\n",
    "raw_df = pd.read_csv('../data/raw/pleiades_gaia_cleaned.csv', sep=',')\n",
    "raw_df.head(3)"
   ]
  },
  {
   "cell_type": "code",
   "execution_count": 10,
   "metadata": {},
   "outputs": [],
   "source": [
    "# Celestial coordinate (RA, DEC)\n",
    "coord = SkyCoord(ra=raw_df['RA_ICRS'], dec=raw_df['DE_ICRS'], unit='deg', frame='icrs')\n",
    "\n",
    "# We convert to Galactic\n",
    "galactic_coord = coord.galactic\n",
    "\n",
    "raw_df['galactic_l'] = galactic_coord.l # Longitude\n",
    "raw_df['galactic_b'] = galactic_coord.b # Latitude"
   ]
  },
  {
   "cell_type": "markdown",
   "metadata": {},
   "source": [
    "### Step 6: Filter high uncertainty"
   ]
  },
  {
   "cell_type": "markdown",
   "metadata": {},
   "source": [
    "Observational limitations introduce uncertainty in the measured parallax, and if this uncertainty is too large, the measurement becomes unreliable."
   ]
  },
  {
   "cell_type": "markdown",
   "metadata": {},
   "source": [
    "**Reminder:** `Plx` represents the parallax, and `e_Plx` is its associated error. \n",
    "\n",
    "We are going to calculate the relative parallax error:\n",
    "$$\\text{Relative Parallax Error} = \\frac{\\sigma_{\\varpi}}{\\varpi}$$\n",
    "\n",
    "where:\n",
    "- $\\varpi$ is the measured parallax.\n",
    "- $\\sigma_{\\varpi}$ is the uncertainty."
   ]
  },
  {
   "cell_type": "code",
   "execution_count": 11,
   "metadata": {},
   "outputs": [
    {
     "name": "stdout",
     "output_type": "stream",
     "text": [
      "<class 'pandas.core.frame.DataFrame'>\n",
      "Index: 6845 entries, 7 to 27952\n",
      "Data columns (total 12 columns):\n",
      " #   Column      Non-Null Count  Dtype  \n",
      "---  ------      --------------  -----  \n",
      " 0   RA_ICRS     6845 non-null   float64\n",
      " 1   DE_ICRS     6845 non-null   float64\n",
      " 2   Plx         6845 non-null   float64\n",
      " 3   e_Plx       6845 non-null   float64\n",
      " 4   pmRA        6845 non-null   float64\n",
      " 5   pmDE        6845 non-null   float64\n",
      " 6   Gmag        6845 non-null   float64\n",
      " 7   BPmag       6845 non-null   float64\n",
      " 8   RPmag       6845 non-null   float64\n",
      " 9   galactic_l  6845 non-null   float64\n",
      " 10  galactic_b  6845 non-null   float64\n",
      " 11  rel_e_Plx   6845 non-null   float64\n",
      "dtypes: float64(12)\n",
      "memory usage: 695.2 KB\n"
     ]
    }
   ],
   "source": [
    "# First we remove the rows with negative parallax or NaN values\n",
    "raw_df = raw_df[raw_df['Plx'] > 0]\n",
    "raw_df.dropna(subset=['Plx', 'pmRA', 'pmDE', 'Gmag', 'BPmag', 'RPmag'], inplace=True)\n",
    "\n",
    "# Necessary columns\n",
    "plx = raw_df['Plx']\n",
    "plx_error = raw_df['e_Plx']\n",
    "\n",
    "# Calculation\n",
    "rel_plx_error = plx_error / plx \n",
    "raw_df['rel_e_Plx'] = rel_plx_error\n",
    "\n",
    "# We filter starts with relative error <= 50%\n",
    "raw_df = raw_df[raw_df['rel_e_Plx'] <= 0.2]\n",
    "raw_df.info()"
   ]
  },
  {
   "cell_type": "code",
   "execution_count": 12,
   "metadata": {},
   "outputs": [],
   "source": [
    "# We can save the clean data\n",
    "raw_df.to_csv('../data/cleaned/pleiades_gaia_cleaned.csv', index=False)"
   ]
  },
  {
   "cell_type": "markdown",
   "metadata": {},
   "source": [
    "### Step 7: Computing distances, magnitudes, and velocities"
   ]
  },
  {
   "cell_type": "code",
   "execution_count": 13,
   "metadata": {},
   "outputs": [],
   "source": [
    "# We read the clean data\n",
    "cleaned_df = pd.read_csv('../data/cleaned/pleiades_gaia_cleaned.csv', sep=',')"
   ]
  },
  {
   "cell_type": "markdown",
   "metadata": {},
   "source": [
    "- Distance calculation: We convert parallax to distance in parsecs using `1 parsec = 1000 / parallax`.\n",
    "- Absolute magnitude: Measures a star’s true brightness, independent of distance.\n",
    "- Color index (BP - RP): Indicates a star’s color and temperature; lower values mean hotter, bluer stars.\n",
    "- Tangential velocity: The speed at which a star moves across the sky, perpendicular to our line of sight."
   ]
  },
  {
   "cell_type": "code",
   "execution_count": 14,
   "metadata": {},
   "outputs": [],
   "source": [
    "# Distance in parsecs\n",
    "cleaned_df['distance'] = 1000 / cleaned_df['Plx']\n",
    "\n",
    "# Absolute magnitude to measure the brightness\n",
    "cleaned_df['M_g'] = cleaned_df['Gmag'] - 5 * (np.log10(cleaned_df['distance']) - 1)\n",
    "\n",
    "# Color index\n",
    "cleaned_df['bp_rp'] = cleaned_df['BPmag'] - cleaned_df['RPmag']\n",
    "\n",
    "# Tangential velocity in km/s\n",
    "cleaned_df['v_ra'] = 4.74 * cleaned_df['distance'] * cleaned_df['pmRA'] / 1e3\n",
    "cleaned_df['v_dec'] = 4.74 * cleaned_df['distance'] * cleaned_df['pmDE'] / 1e3\n",
    "cleaned_df['v_total'] = np.sqrt(cleaned_df['v_ra']**2 + cleaned_df['v_dec']**2)\n",
    "\n",
    "# We should exclude stas with tangential velocities > 300 km/s (likely non-members or outliers)\n",
    "cleaned_df = cleaned_df[cleaned_df['v_total'] <= 300]"
   ]
  },
  {
   "cell_type": "code",
   "execution_count": 15,
   "metadata": {},
   "outputs": [
    {
     "data": {
      "text/html": [
       "<div>\n",
       "<style scoped>\n",
       "    .dataframe tbody tr th:only-of-type {\n",
       "        vertical-align: middle;\n",
       "    }\n",
       "\n",
       "    .dataframe tbody tr th {\n",
       "        vertical-align: top;\n",
       "    }\n",
       "\n",
       "    .dataframe thead th {\n",
       "        text-align: right;\n",
       "    }\n",
       "</style>\n",
       "<table border=\"1\" class=\"dataframe\">\n",
       "  <thead>\n",
       "    <tr style=\"text-align: right;\">\n",
       "      <th></th>\n",
       "      <th>RA_ICRS</th>\n",
       "      <th>DE_ICRS</th>\n",
       "      <th>Plx</th>\n",
       "      <th>e_Plx</th>\n",
       "      <th>pmRA</th>\n",
       "      <th>pmDE</th>\n",
       "      <th>Gmag</th>\n",
       "      <th>BPmag</th>\n",
       "      <th>RPmag</th>\n",
       "      <th>galactic_l</th>\n",
       "      <th>galactic_b</th>\n",
       "      <th>rel_e_Plx</th>\n",
       "      <th>distance</th>\n",
       "      <th>M_g</th>\n",
       "      <th>bp_rp</th>\n",
       "      <th>v_ra</th>\n",
       "      <th>v_dec</th>\n",
       "      <th>v_total</th>\n",
       "    </tr>\n",
       "  </thead>\n",
       "  <tbody>\n",
       "    <tr>\n",
       "      <th>0</th>\n",
       "      <td>56.270012</td>\n",
       "      <td>23.281847</td>\n",
       "      <td>1.6016</td>\n",
       "      <td>0.3162</td>\n",
       "      <td>25.935</td>\n",
       "      <td>-14.649</td>\n",
       "      <td>18.914043</td>\n",
       "      <td>20.688047</td>\n",
       "      <td>17.706924</td>\n",
       "      <td>166.828899</td>\n",
       "      <td>-24.434632</td>\n",
       "      <td>0.197428</td>\n",
       "      <td>624.375624</td>\n",
       "      <td>9.936813</td>\n",
       "      <td>2.981123</td>\n",
       "      <td>76.755682</td>\n",
       "      <td>-43.354308</td>\n",
       "      <td>88.153450</td>\n",
       "    </tr>\n",
       "    <tr>\n",
       "      <th>1</th>\n",
       "      <td>56.273508</td>\n",
       "      <td>23.294099</td>\n",
       "      <td>2.2309</td>\n",
       "      <td>0.0893</td>\n",
       "      <td>24.736</td>\n",
       "      <td>-87.267</td>\n",
       "      <td>17.114810</td>\n",
       "      <td>18.152431</td>\n",
       "      <td>16.125580</td>\n",
       "      <td>166.822472</td>\n",
       "      <td>-24.423399</td>\n",
       "      <td>0.040029</td>\n",
       "      <td>448.249585</td>\n",
       "      <td>8.857211</td>\n",
       "      <td>2.026851</td>\n",
       "      <td>52.556654</td>\n",
       "      <td>-185.416460</td>\n",
       "      <td>192.721212</td>\n",
       "    </tr>\n",
       "    <tr>\n",
       "      <th>2</th>\n",
       "      <td>56.248320</td>\n",
       "      <td>23.314508</td>\n",
       "      <td>0.8100</td>\n",
       "      <td>0.0859</td>\n",
       "      <td>10.081</td>\n",
       "      <td>-30.797</td>\n",
       "      <td>15.802562</td>\n",
       "      <td>16.401548</td>\n",
       "      <td>15.021703</td>\n",
       "      <td>166.788594</td>\n",
       "      <td>-24.423814</td>\n",
       "      <td>0.106049</td>\n",
       "      <td>1234.567901</td>\n",
       "      <td>5.344987</td>\n",
       "      <td>1.379845</td>\n",
       "      <td>58.992519</td>\n",
       "      <td>-180.219481</td>\n",
       "      <td>189.629056</td>\n",
       "    </tr>\n",
       "    <tr>\n",
       "      <th>3</th>\n",
       "      <td>56.774946</td>\n",
       "      <td>23.136144</td>\n",
       "      <td>0.9106</td>\n",
       "      <td>0.1456</td>\n",
       "      <td>2.705</td>\n",
       "      <td>-1.746</td>\n",
       "      <td>17.857246</td>\n",
       "      <td>18.710098</td>\n",
       "      <td>16.986935</td>\n",
       "      <td>167.312810</td>\n",
       "      <td>-24.229266</td>\n",
       "      <td>0.159895</td>\n",
       "      <td>1098.177026</td>\n",
       "      <td>7.653884</td>\n",
       "      <td>1.723163</td>\n",
       "      <td>14.080496</td>\n",
       "      <td>-9.088557</td>\n",
       "      <td>16.758945</td>\n",
       "    </tr>\n",
       "    <tr>\n",
       "      <th>4</th>\n",
       "      <td>56.769313</td>\n",
       "      <td>23.135134</td>\n",
       "      <td>0.3108</td>\n",
       "      <td>0.0611</td>\n",
       "      <td>0.229</td>\n",
       "      <td>-1.834</td>\n",
       "      <td>16.179361</td>\n",
       "      <td>16.535942</td>\n",
       "      <td>15.652886</td>\n",
       "      <td>167.309379</td>\n",
       "      <td>-24.233516</td>\n",
       "      <td>0.196589</td>\n",
       "      <td>3217.503218</td>\n",
       "      <td>3.641766</td>\n",
       "      <td>0.883056</td>\n",
       "      <td>3.492471</td>\n",
       "      <td>-27.970270</td>\n",
       "      <td>28.187468</td>\n",
       "    </tr>\n",
       "  </tbody>\n",
       "</table>\n",
       "</div>"
      ],
      "text/plain": [
       "     RA_ICRS    DE_ICRS     Plx   e_Plx    pmRA    pmDE       Gmag      BPmag  \\\n",
       "0  56.270012  23.281847  1.6016  0.3162  25.935 -14.649  18.914043  20.688047   \n",
       "1  56.273508  23.294099  2.2309  0.0893  24.736 -87.267  17.114810  18.152431   \n",
       "2  56.248320  23.314508  0.8100  0.0859  10.081 -30.797  15.802562  16.401548   \n",
       "3  56.774946  23.136144  0.9106  0.1456   2.705  -1.746  17.857246  18.710098   \n",
       "4  56.769313  23.135134  0.3108  0.0611   0.229  -1.834  16.179361  16.535942   \n",
       "\n",
       "       RPmag  galactic_l  galactic_b  rel_e_Plx     distance       M_g  \\\n",
       "0  17.706924  166.828899  -24.434632   0.197428   624.375624  9.936813   \n",
       "1  16.125580  166.822472  -24.423399   0.040029   448.249585  8.857211   \n",
       "2  15.021703  166.788594  -24.423814   0.106049  1234.567901  5.344987   \n",
       "3  16.986935  167.312810  -24.229266   0.159895  1098.177026  7.653884   \n",
       "4  15.652886  167.309379  -24.233516   0.196589  3217.503218  3.641766   \n",
       "\n",
       "      bp_rp       v_ra       v_dec     v_total  \n",
       "0  2.981123  76.755682  -43.354308   88.153450  \n",
       "1  2.026851  52.556654 -185.416460  192.721212  \n",
       "2  1.379845  58.992519 -180.219481  189.629056  \n",
       "3  1.723163  14.080496   -9.088557   16.758945  \n",
       "4  0.883056   3.492471  -27.970270   28.187468  "
      ]
     },
     "execution_count": 15,
     "metadata": {},
     "output_type": "execute_result"
    }
   ],
   "source": [
    "cleaned_df.head(5)"
   ]
  },
  {
   "cell_type": "code",
   "execution_count": 16,
   "metadata": {},
   "outputs": [],
   "source": [
    "# We can save the processed and ready to use data\n",
    "cleaned_df.to_csv('../data/processed/pleiades_gaia_features.csv', index=False)"
   ]
  }
 ],
 "metadata": {
  "kernelspec": {
   "display_name": "astro-python",
   "language": "python",
   "name": "python3"
  },
  "language_info": {
   "codemirror_mode": {
    "name": "ipython",
    "version": 3
   },
   "file_extension": ".py",
   "mimetype": "text/x-python",
   "name": "python",
   "nbconvert_exporter": "python",
   "pygments_lexer": "ipython3",
   "version": "3.12.3"
  }
 },
 "nbformat": 4,
 "nbformat_minor": 2
}
