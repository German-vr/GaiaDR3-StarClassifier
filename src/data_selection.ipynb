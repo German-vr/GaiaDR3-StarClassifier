{
 "cells": [
  {
   "cell_type": "markdown",
   "metadata": {},
   "source": [
    "# Data Selection (Query Gaia DR3)"
   ]
  },
  {
   "cell_type": "markdown",
   "metadata": {},
   "source": [
    "This notebook retrieves Gaia DR3 data for stars in the vicinity of the **Pleiades open cluster** (Messier 45). We aim to:\n",
    "- Extract astrometric (parallax, proper motion) and photometric (magnitudes) data.\n",
    "- Prepare a clean dataset for downstream analysis (e.g., membership determination)."
   ]
  },
  {
   "cell_type": "code",
   "execution_count": 2,
   "metadata": {},
   "outputs": [],
   "source": [
    "# Necessary imports\n",
    "import numpy as np\n",
    "import pandas as pd\n",
    "\n",
    "# Astronomy tools\n",
    "import astropy.units as u\n",
    "from astropy.coordinates import SkyCoord\n",
    "\n",
    "# Access astronomical databases\n",
    "from astroquery.vizier import Vizier"
   ]
  },
  {
   "cell_type": "markdown",
   "metadata": {},
   "source": [
    "---"
   ]
  },
  {
   "cell_type": "markdown",
   "metadata": {},
   "source": [
    "### Step 1: Query Gaia DR3 data"
   ]
  },
  {
   "cell_type": "markdown",
   "metadata": {},
   "source": [
    "#### Why Gaia DR3?\n",
    "Gaia DR3 provides high-precision astrometry (parallaxes, proper motions) and photometry for over 1.8 billion stars. This makes it ideal for studying stellar clusters like the Pleiades.\n",
    "\n",
    "### Target Coordinates\n",
    "- **Pleiades Center**: RA = 56.87°, Dec = 24.11° ([ICRS](https://en.wikipedia.org/wiki/International_Celestial_Reference_System)).\n",
    "- **Radius**: 1 degree (to capture cluster members and background/foreground stars)."
   ]
  },
  {
   "cell_type": "code",
   "execution_count": null,
   "metadata": {},
   "outputs": [],
   "source": [
    "# Configuration\n",
    "\n",
    "Vizier.ROW_LIMIT = -1 # Disable row limit\n",
    "catalog = \"I/355/gaiadr3\" # Gaia DR3 catalog ID\n",
    "pleiades_ra, pleiades_dec = 56.87, 24.11 # Pleiades' ICRS coordinates"
   ]
  },
  {
   "cell_type": "markdown",
   "metadata": {},
   "source": [
    "### Step 2: Fetch data"
   ]
  },
  {
   "cell_type": "markdown",
   "metadata": {},
   "source": []
  },
  {
   "cell_type": "code",
   "execution_count": null,
   "metadata": {},
   "outputs": [
    {
     "name": "stderr",
     "output_type": "stream",
     "text": [
      "WARNING: InputWarning: Coordinate string is being interpreted as an ICRS coordinate provided in degrees. [astroquery.utils.commons]\n"
     ]
    }
   ],
   "source": [
    "# Fet data within 1-degree radius\n",
    "\n",
    "vizier = Vizier()\n",
    "pleiades_ra_dec = f\"{pleiades_ra} {pleiades_dec}\"\n",
    "\n",
    "result = vizier.query_region(\n",
    "    pleiades_ra_dec,\n",
    "    radius=\"1d\",  # Radius of 1 degree\n",
    "    catalog=catalog\n",
    ")"
   ]
  },
  {
   "cell_type": "markdown",
   "metadata": {},
   "source": [
    "A `User Warning` about coordinate interpretation is expected because we pass a string in degrees. This does not affect results."
   ]
  },
  {
   "cell_type": "code",
   "execution_count": 5,
   "metadata": {},
   "outputs": [
    {
     "data": {
      "text/plain": [
       "TableList with 1 tables:\n",
       "\t'0:I/355/gaiadr3' with 57 column(s) and 50 row(s) "
      ]
     },
     "execution_count": 5,
     "metadata": {},
     "output_type": "execute_result"
    }
   ],
   "source": [
    "result"
   ]
  },
  {
   "cell_type": "code",
   "execution_count": 6,
   "metadata": {},
   "outputs": [
    {
     "data": {
      "text/html": [
       "<div><i>Table length=50</i>\n",
       "<table id=\"table131099501653232\" class=\"table-striped table-bordered table-condensed\">\n",
       "<thead><tr><th>RA_ICRS</th><th>DE_ICRS</th><th>Source</th><th>e_RA_ICRS</th><th>e_DE_ICRS</th><th>Plx</th><th>e_Plx</th><th>PM</th><th>pmRA</th><th>e_pmRA</th><th>pmDE</th><th>e_pmDE</th><th>RUWE</th><th>FG</th><th>e_FG</th><th>Gmag</th><th>FBP</th><th>e_FBP</th><th>BPmag</th><th>FRP</th><th>e_FRP</th><th>RPmag</th><th>BP-RP</th><th>RV</th><th>e_RV</th><th>Vbroad</th><th>GRVSmag</th><th>QSO</th><th>Gal</th><th>NSS</th><th>XPcont</th><th>XPsamp</th><th>RVS</th><th>EpochPh</th><th>EpochRV</th><th>MCMCGSP</th><th>MCMCMSC</th><th>And</th><th>Teff</th><th>logg</th><th>[Fe/H]</th><th>Dist</th><th>A0</th><th>HIP</th><th>PS1</th><th>SDSS13</th><th>SKYM2</th><th>TYC2</th><th>URAT1</th><th>AllWISE</th><th>APASS9</th><th>GSC23</th><th>RAVE5</th><th>2MASS</th><th>RAVE6</th><th>RAJ2000</th><th>DEJ2000</th></tr></thead>\n",
       "<thead><tr><th>deg</th><th>deg</th><th></th><th>mas</th><th>mas</th><th>mas</th><th>mas</th><th>mas / yr</th><th>mas / yr</th><th>mas / yr</th><th>mas / yr</th><th>mas / yr</th><th></th><th></th><th></th><th>mag</th><th></th><th></th><th>mag</th><th></th><th></th><th>mag</th><th>mag</th><th>km / s</th><th>km / s</th><th>km / s</th><th>mag</th><th></th><th></th><th></th><th></th><th></th><th></th><th></th><th></th><th></th><th></th><th></th><th>K</th><th>log(cm.s**-2)</th><th></th><th>pc</th><th>mag</th><th></th><th></th><th></th><th></th><th></th><th></th><th></th><th></th><th></th><th></th><th></th><th></th><th>deg</th><th>deg</th></tr></thead>\n",
       "<thead><tr><th>float64</th><th>float64</th><th>int64</th><th>float64</th><th>float64</th><th>float64</th><th>float32</th><th>float64</th><th>float64</th><th>float32</th><th>float64</th><th>float32</th><th>float64</th><th>float64</th><th>float32</th><th>float64</th><th>float32</th><th>float32</th><th>float64</th><th>float32</th><th>float32</th><th>float64</th><th>float64</th><th>float64</th><th>float32</th><th>float64</th><th>float64</th><th>uint8</th><th>uint8</th><th>uint8</th><th>uint8</th><th>uint8</th><th>uint8</th><th>uint8</th><th>uint8</th><th>uint8</th><th>uint8</th><th>uint8</th><th>float64</th><th>float64</th><th>float64</th><th>float64</th><th>float64</th><th>int32</th><th>int64</th><th>int64</th><th>int32</th><th>str12</th><th>str15</th><th>str19</th><th>int32</th><th>str10</th><th>str16</th><th>str17</th><th>str21</th><th>float64</th><th>float64</th></tr></thead>\n",
       "<tr><td>56.29970655907</td><td>23.26100088624</td><td>64878779542177920</td><td>0.4013</td><td>0.2921</td><td>0.2190</td><td>0.4557</td><td>2.859</td><td>2.721</td><td>0.595</td><td>-0.875</td><td>0.363</td><td>1.098</td><td>275.57098</td><td>1.196</td><td>19.586782</td><td>112.9</td><td>6.887</td><td>20.207155</td><td>225.8</td><td>10.91</td><td>18.863811</td><td>1.343344</td><td>--</td><td>--</td><td>--</td><td>--</td><td>0</td><td>0</td><td>0</td><td>0</td><td>0</td><td>0</td><td>0</td><td>0</td><td>0</td><td>0</td><td>0</td><td>--</td><td>--</td><td>--</td><td>--</td><td>--</td><td>--</td><td>135910562997343759</td><td>--</td><td>--</td><td></td><td></td><td></td><td>--</td><td>NC3R001125</td><td></td><td></td><td></td><td>56.29969339355</td><td>23.26100477401</td></tr>\n",
       "<tr><td>56.31187534304</td><td>23.25615636617</td><td>64878779542180096</td><td>0.5357</td><td>0.3904</td><td>0.8742</td><td>0.6493</td><td>5.453</td><td>-1.735</td><td>0.871</td><td>-5.170</td><td>0.487</td><td>0.984</td><td>188.11929</td><td>0.9717</td><td>20.001284</td><td>61.05</td><td>8.187</td><td>20.874315</td><td>200.2</td><td>12.21</td><td>18.994102</td><td>1.880213</td><td>--</td><td>--</td><td>--</td><td>--</td><td>0</td><td>0</td><td>0</td><td>0</td><td>0</td><td>0</td><td>0</td><td>0</td><td>0</td><td>0</td><td>0</td><td>--</td><td>--</td><td>--</td><td>--</td><td>--</td><td>--</td><td>135900563119097937</td><td>--</td><td>--</td><td></td><td></td><td></td><td>--</td><td>NC3R002264</td><td></td><td></td><td></td><td>56.31188373645</td><td>23.25617934188</td></tr>\n",
       "<tr><td>56.30543515160</td><td>23.26484284000</td><td>64878779542260864</td><td>1.0335</td><td>0.7541</td><td>2.6486</td><td>1.1043</td><td>19.280</td><td>0.152</td><td>1.829</td><td>-19.280</td><td>0.918</td><td>1.064</td><td>122.81044</td><td>1.642</td><td>20.464280</td><td>49.71</td><td>8.23</td><td>21.097471</td><td>186.7</td><td>14.43</td><td>19.070179</td><td>2.027292</td><td>--</td><td>--</td><td>--</td><td>--</td><td>0</td><td>0</td><td>0</td><td>0</td><td>0</td><td>0</td><td>0</td><td>0</td><td>0</td><td>0</td><td>0</td><td>--</td><td>--</td><td>--</td><td>--</td><td>--</td><td>--</td><td>135910563054748477</td><td>--</td><td>--</td><td></td><td></td><td>J034513.30+231553.6</td><td>--</td><td></td><td></td><td>03451333+2315539</td><td></td><td>56.30543441548</td><td>23.26492852824</td></tr>\n",
       "<tr><td>56.28885509191</td><td>23.27596376545</td><td>64879604175898624</td><td>0.1305</td><td>0.0950</td><td>0.1802</td><td>0.1463</td><td>11.835</td><td>6.824</td><td>0.185</td><td>-9.670</td><td>0.121</td><td>1.008</td><td>1191.05275</td><td>1.683</td><td>17.997540</td><td>560</td><td>10.16</td><td>18.467978</td><td>880</td><td>10.07</td><td>17.386631</td><td>1.081346</td><td>--</td><td>--</td><td>--</td><td>--</td><td>0</td><td>0</td><td>0</td><td>0</td><td>0</td><td>0</td><td>0</td><td>0</td><td>1</td><td>1</td><td>0</td><td>4939.8</td><td>4.7814</td><td>-2.3683</td><td>1544.3237</td><td>0.0292</td><td>--</td><td>135930562888691737</td><td>--</td><td>--</td><td></td><td>URAT1-567028005</td><td>J034509.31+231633.2</td><td>--</td><td>NC3R001123</td><td></td><td>03450931+2316336</td><td></td><td>56.28882207756</td><td>23.27600674439</td></tr>\n",
       "<tr><td>56.27559048728</td><td>23.27885146249</td><td>64879608470745984</td><td>0.7507</td><td>0.5688</td><td>-0.3159</td><td>0.9182</td><td>3.107</td><td>-2.950</td><td>1.274</td><td>-0.975</td><td>0.699</td><td>0.998</td><td>133.42777</td><td>1.072</td><td>20.374250</td><td>60.69</td><td>12.46</td><td>20.880724</td><td>109.2</td><td>12.17</td><td>19.652622</td><td>1.228102</td><td>--</td><td>--</td><td>--</td><td>--</td><td>0</td><td>0</td><td>0</td><td>0</td><td>0</td><td>0</td><td>0</td><td>0</td><td>0</td><td>0</td><td>0</td><td>--</td><td>--</td><td>--</td><td>--</td><td>--</td><td>--</td><td>135930562756285187</td><td>--</td><td>--</td><td></td><td></td><td></td><td>--</td><td>NC3R002484</td><td></td><td></td><td></td><td>56.27560476142</td><td>23.27885579510</td></tr>\n",
       "<tr><td>56.26915181062</td><td>23.27549627972</td><td>64879642830595712</td><td>2.6329</td><td>2.0902</td><td>--</td><td>--</td><td>--</td><td>--</td><td>--</td><td>--</td><td>--</td><td>--</td><td>81.25938</td><td>1.223</td><td>20.912683</td><td>47.88</td><td>15.12</td><td>21.138159</td><td>110.1</td><td>17.28</td><td>19.643484</td><td>1.494675</td><td>--</td><td>--</td><td>--</td><td>--</td><td>0</td><td>0</td><td>0</td><td>0</td><td>0</td><td>0</td><td>0</td><td>0</td><td>0</td><td>0</td><td>0</td><td>--</td><td>--</td><td>--</td><td>--</td><td>--</td><td>--</td><td>135930562691941172</td><td>--</td><td>--</td><td></td><td></td><td></td><td>--</td><td></td><td></td><td></td><td></td><td>56.26915181062</td><td>23.27549627972</td></tr>\n",
       "<tr><td>56.27480840954</td><td>23.28176848536</td><td>64879672895376256</td><td>0.2407</td><td>0.1686</td><td>0.3975</td><td>0.2760</td><td>3.140</td><td>-0.691</td><td>0.344</td><td>-3.063</td><td>0.205</td><td>1.125</td><td>690.30101</td><td>1.513</td><td>18.589771</td><td>303.5</td><td>9.319</td><td>19.133230</td><td>522.5</td><td>10.54</td><td>17.952698</td><td>1.180532</td><td>--</td><td>--</td><td>--</td><td>--</td><td>0</td><td>0</td><td>0</td><td>0</td><td>0</td><td>0</td><td>0</td><td>0</td><td>1</td><td>0</td><td>0</td><td>4556.2</td><td>4.8610</td><td>-1.4192</td><td>1513.5316</td><td>0.0053</td><td>--</td><td>135930562748398687</td><td>--</td><td>--</td><td></td><td>URAT1-567027998</td><td></td><td>--</td><td>NC3R001151</td><td></td><td></td><td></td><td>56.27481175082</td><td>23.28178210047</td></tr>\n",
       "<tr><td>56.27001240205</td><td>23.28184658425</td><td>64879672895376640</td><td>0.2812</td><td>0.2063</td><td>1.6016</td><td>0.3162</td><td>29.786</td><td>25.935</td><td>0.433</td><td>-14.649</td><td>0.251</td><td>1.105</td><td>512.07012</td><td>1.392</td><td>18.914043</td><td>72.48</td><td>5.137</td><td>20.688047</td><td>655.2</td><td>10.19</td><td>17.706924</td><td>2.981123</td><td>--</td><td>--</td><td>--</td><td>--</td><td>0</td><td>0</td><td>0</td><td>0</td><td>0</td><td>0</td><td>0</td><td>0</td><td>1</td><td>0</td><td>0</td><td>3291.4</td><td>4.9633</td><td>-0.2035</td><td>371.0366</td><td>0.5355</td><td>--</td><td>135930562699838803</td><td>--</td><td>--</td><td></td><td>URAT1-567027994</td><td>J034504.79+231654.7</td><td>--</td><td>NC3R001158</td><td></td><td>03450478+2316549</td><td></td><td>56.26988691887</td><td>23.28191169119</td></tr>\n",
       "<tr><td>56.27350772077</td><td>23.29409853091</td><td>64879672895379200</td><td>0.0809</td><td>0.0580</td><td>2.2309</td><td>0.0893</td><td>90.705</td><td>24.736</td><td>0.111</td><td>-87.267</td><td>0.071</td><td>0.995</td><td>2685.48168</td><td>2.458</td><td>17.114810</td><td>748.9</td><td>9.855</td><td>18.152431</td><td>2811</td><td>13.44</td><td>16.125580</td><td>2.026852</td><td>--</td><td>--</td><td>--</td><td>--</td><td>0</td><td>0</td><td>0</td><td>1</td><td>0</td><td>0</td><td>0</td><td>0</td><td>1</td><td>1</td><td>0</td><td>4277.5</td><td>4.6363</td><td>-0.1009</td><td>573.3726</td><td>1.3041</td><td>--</td><td>135950562734883658</td><td>--</td><td>--</td><td></td><td>URAT1-567027997</td><td>J034505.62+231739.2</td><td>--</td><td>NC3R002605</td><td></td><td>03450562+2317402</td><td></td><td>56.27338802683</td><td>23.29448638534</td></tr>\n",
       "<tr><td>...</td><td>...</td><td>...</td><td>...</td><td>...</td><td>...</td><td>...</td><td>...</td><td>...</td><td>...</td><td>...</td><td>...</td><td>...</td><td>...</td><td>...</td><td>...</td><td>...</td><td>...</td><td>...</td><td>...</td><td>...</td><td>...</td><td>...</td><td>...</td><td>...</td><td>...</td><td>...</td><td>...</td><td>...</td><td>...</td><td>...</td><td>...</td><td>...</td><td>...</td><td>...</td><td>...</td><td>...</td><td>...</td><td>...</td><td>...</td><td>...</td><td>...</td><td>...</td><td>...</td><td>...</td><td>...</td><td>...</td><td>...</td><td>...</td><td>...</td><td>...</td><td>...</td><td>...</td><td>...</td><td>...</td><td>...</td><td>...</td></tr>\n",
       "<tr><td>56.92560531898</td><td>23.11224194058</td><td>64908363275944320</td><td>0.2843</td><td>0.2127</td><td>0.1383</td><td>0.3130</td><td>2.691</td><td>-0.186</td><td>0.360</td><td>-2.684</td><td>0.267</td><td>0.943</td><td>396.22041</td><td>1.087</td><td>19.192524</td><td>115.7</td><td>5.971</td><td>20.180010</td><td>363.4</td><td>10.09</td><td>18.346930</td><td>1.833080</td><td>--</td><td>--</td><td>--</td><td>--</td><td>0</td><td>0</td><td>0</td><td>0</td><td>0</td><td>0</td><td>0</td><td>0</td><td>0</td><td>0</td><td>0</td><td>--</td><td>--</td><td>--</td><td>--</td><td>--</td><td>--</td><td>135730569255785256</td><td>--</td><td>--</td><td></td><td>URAT1-566027406</td><td>J034742.14+230643.4</td><td>--</td><td>NC3P015432</td><td></td><td></td><td></td><td>56.92560621911</td><td>23.11225387153</td></tr>\n",
       "<tr><td>56.91811781664</td><td>23.11505517391</td><td>64908363275946880</td><td>0.2222</td><td>0.1595</td><td>0.7437</td><td>0.2462</td><td>4.847</td><td>3.068</td><td>0.276</td><td>-3.752</td><td>0.207</td><td>0.971</td><td>640.39658</td><td>1.488</td><td>18.671244</td><td>184.9</td><td>12.46</td><td>19.671227</td><td>606.5</td><td>11.54</td><td>17.790796</td><td>1.880430</td><td>--</td><td>--</td><td>--</td><td>--</td><td>0</td><td>0</td><td>0</td><td>0</td><td>0</td><td>0</td><td>0</td><td>0</td><td>1</td><td>0</td><td>0</td><td>3685.9</td><td>4.8855</td><td>-1.2630</td><td>539.7519</td><td>0.0064</td><td>--</td><td>135730569180928633</td><td>--</td><td>--</td><td></td><td>URAT1-566027401</td><td></td><td>--</td><td>NC3P015453</td><td></td><td>03474032+2306540</td><td></td><td>56.91810298949</td><td>23.11507185131</td></tr>\n",
       "<tr><td>56.92010581401</td><td>23.11283514908</td><td>64908367573222784</td><td>0.0158</td><td>0.0107</td><td>1.3280</td><td>0.0169</td><td>4.485</td><td>-2.801</td><td>0.021</td><td>-3.503</td><td>0.014</td><td>1.062</td><td>178379.78017</td><td>66.26</td><td>12.559003</td><td>1.031e+05</td><td>116.2</td><td>12.804980</td><td>1.083e+05</td><td>81.6</td><td>12.161394</td><td>0.643586</td><td>--</td><td>--</td><td>--</td><td>--</td><td>0</td><td>0</td><td>0</td><td>1</td><td>1</td><td>0</td><td>0</td><td>0</td><td>1</td><td>1</td><td>0</td><td>7467.9</td><td>4.2043</td><td>-0.3838</td><td>738.5121</td><td>0.6489</td><td>--</td><td>135730569200525927</td><td>--</td><td>--</td><td></td><td>URAT1-566027403</td><td>J034740.82+230646.2</td><td>220948</td><td>NC3P000472</td><td></td><td>03474082+2306461</td><td></td><td>56.92011935000</td><td>23.11285071808</td></tr>\n",
       "<tr><td>56.93143487520</td><td>23.11647166774</td><td>64908397635686400</td><td>0.1770</td><td>0.1387</td><td>0.4350</td><td>0.1965</td><td>3.269</td><td>1.294</td><td>0.235</td><td>-3.002</td><td>0.181</td><td>1.046</td><td>852.09274</td><td>1.444</td><td>18.361149</td><td>351</td><td>15.14</td><td>18.975190</td><td>704.2</td><td>7.142</td><td>17.628677</td><td>1.346512</td><td>--</td><td>--</td><td>--</td><td>--</td><td>0</td><td>0</td><td>0</td><td>0</td><td>0</td><td>0</td><td>0</td><td>0</td><td>1</td><td>0</td><td>0</td><td>4401.2</td><td>4.9125</td><td>-1.5919</td><td>1098.0938</td><td>0.0071</td><td>--</td><td>135740569314040328</td><td>--</td><td>--</td><td></td><td>URAT1-566027412</td><td>J034743.54+230658.9</td><td>--</td><td>NC3P015462</td><td></td><td></td><td></td><td>56.93142862011</td><td>23.11648501036</td></tr>\n",
       "<tr><td>56.94806109045</td><td>23.11973485603</td><td>64908431995427456</td><td>0.1362</td><td>0.0975</td><td>0.4930</td><td>0.1467</td><td>2.856</td><td>2.816</td><td>0.176</td><td>-0.471</td><td>0.125</td><td>0.951</td><td>1120.43997</td><td>1.725</td><td>18.063896</td><td>490.9</td><td>20</td><td>18.611052</td><td>896.8</td><td>11.9</td><td>17.366129</td><td>1.244923</td><td>--</td><td>--</td><td>--</td><td>--</td><td>0</td><td>0</td><td>0</td><td>0</td><td>0</td><td>0</td><td>0</td><td>0</td><td>1</td><td>1</td><td>0</td><td>4551.3</td><td>4.8941</td><td>-1.6744</td><td>1084.4658</td><td>0.0375</td><td>--</td><td>135740569480414242</td><td>--</td><td>--</td><td></td><td>URAT1-566027419</td><td>J034747.53+230711.1</td><td>--</td><td>NC3P015489</td><td></td><td>03474755+2307110</td><td></td><td>56.94804748021</td><td>23.11973695136</td></tr>\n",
       "<tr><td>56.95006542472</td><td>23.13083939433</td><td>64908431995434880</td><td>0.2748</td><td>0.2014</td><td>-0.1762</td><td>0.2956</td><td>7.360</td><td>5.902</td><td>0.354</td><td>-4.396</td><td>0.250</td><td>1.065</td><td>453.64313</td><td>1.265</td><td>19.045582</td><td>225.5</td><td>11.25</td><td>19.455572</td><td>332.2</td><td>9.182</td><td>18.444387</td><td>1.011185</td><td>--</td><td>--</td><td>--</td><td>--</td><td>0</td><td>0</td><td>0</td><td>0</td><td>0</td><td>0</td><td>0</td><td>0</td><td>0</td><td>0</td><td>0</td><td>--</td><td>--</td><td>--</td><td>--</td><td>--</td><td>--</td><td>135750569500377573</td><td>--</td><td>--</td><td></td><td>URAT1-566027422</td><td>J034748.00+230750.7</td><td>--</td><td>NC3P015564</td><td></td><td></td><td></td><td>56.95003689909</td><td>23.13085893422</td></tr>\n",
       "<tr><td>56.95921873996</td><td>23.12567278321</td><td>64908436291143936</td><td>0.7463</td><td>0.5417</td><td>1.0255</td><td>0.8533</td><td>3.659</td><td>-2.097</td><td>0.994</td><td>-2.998</td><td>0.746</td><td>1.008</td><td>136.37577</td><td>0.9578</td><td>20.350523</td><td>65.4</td><td>7.863</td><td>20.799576</td><td>121.1</td><td>7.157</td><td>19.540045</td><td>1.259531</td><td>--</td><td>--</td><td>--</td><td>--</td><td>0</td><td>0</td><td>0</td><td>0</td><td>0</td><td>0</td><td>0</td><td>0</td><td>0</td><td>0</td><td>0</td><td>--</td><td>--</td><td>--</td><td>--</td><td>--</td><td>--</td><td>135750569591841377</td><td>--</td><td>--</td><td></td><td></td><td></td><td>--</td><td>NC3P015533</td><td></td><td></td><td></td><td>56.95922887543</td><td>23.12568610716</td></tr>\n",
       "<tr><td>56.94667966655</td><td>23.12175437127</td><td>64908436291264000</td><td>1.4012</td><td>0.7637</td><td>-0.1147</td><td>1.6157</td><td>3.486</td><td>-3.156</td><td>1.704</td><td>-1.480</td><td>1.068</td><td>1.139</td><td>104.33258</td><td>1.023</td><td>20.641317</td><td>30.72</td><td>6.077</td><td>21.620108</td><td>124.6</td><td>8.379</td><td>19.508987</td><td>2.111120</td><td>--</td><td>--</td><td>--</td><td>--</td><td>0</td><td>0</td><td>0</td><td>0</td><td>0</td><td>0</td><td>0</td><td>0</td><td>0</td><td>0</td><td>0</td><td>--</td><td>--</td><td>--</td><td>--</td><td>--</td><td>--</td><td>135740569466546675</td><td>--</td><td>--</td><td></td><td></td><td></td><td>--</td><td></td><td></td><td></td><td></td><td>56.94669492043</td><td>23.12176095120</td></tr>\n",
       "<tr><td>56.96357367113</td><td>23.13057145014</td><td>64908466355172864</td><td>0.7275</td><td>0.6297</td><td>0.1940</td><td>0.8400</td><td>1.213</td><td>-0.800</td><td>1.116</td><td>-0.912</td><td>0.876</td><td>0.954</td><td>133.86443</td><td>0.8903</td><td>20.370705</td><td>72.89</td><td>7.817</td><td>20.681864</td><td>102.1</td><td>7.257</td><td>19.725092</td><td>0.956772</td><td>--</td><td>--</td><td>--</td><td>--</td><td>0</td><td>0</td><td>0</td><td>0</td><td>0</td><td>0</td><td>0</td><td>0</td><td>0</td><td>0</td><td>0</td><td>--</td><td>--</td><td>--</td><td>--</td><td>--</td><td>--</td><td>135750569635457239</td><td>--</td><td>--</td><td></td><td></td><td></td><td>--</td><td>NC3P015561</td><td></td><td></td><td></td><td>56.96357753960</td><td>23.13057550283</td></tr>\n",
       "</table></div>"
      ],
      "text/plain": [
       "<Table length=50>\n",
       "    RA_ICRS         DE_ICRS     ...     RAJ2000         DEJ2000    \n",
       "      deg             deg       ...       deg             deg      \n",
       "    float64         float64     ...     float64         float64    \n",
       "--------------- --------------- ... --------------- ---------------\n",
       " 56.29970655907  23.26100088624 ...  56.29969339355  23.26100477401\n",
       " 56.31187534304  23.25615636617 ...  56.31188373645  23.25617934188\n",
       " 56.30543515160  23.26484284000 ...  56.30543441548  23.26492852824\n",
       " 56.28885509191  23.27596376545 ...  56.28882207756  23.27600674439\n",
       " 56.27559048728  23.27885146249 ...  56.27560476142  23.27885579510\n",
       " 56.26915181062  23.27549627972 ...  56.26915181062  23.27549627972\n",
       " 56.27480840954  23.28176848536 ...  56.27481175082  23.28178210047\n",
       " 56.27001240205  23.28184658425 ...  56.26988691887  23.28191169119\n",
       " 56.27350772077  23.29409853091 ...  56.27338802683  23.29448638534\n",
       "            ...             ... ...             ...             ...\n",
       " 56.92560531898  23.11224194058 ...  56.92560621911  23.11225387153\n",
       " 56.91811781664  23.11505517391 ...  56.91810298949  23.11507185131\n",
       " 56.92010581401  23.11283514908 ...  56.92011935000  23.11285071808\n",
       " 56.93143487520  23.11647166774 ...  56.93142862011  23.11648501036\n",
       " 56.94806109045  23.11973485603 ...  56.94804748021  23.11973695136\n",
       " 56.95006542472  23.13083939433 ...  56.95003689909  23.13085893422\n",
       " 56.95921873996  23.12567278321 ...  56.95922887543  23.12568610716\n",
       " 56.94667966655  23.12175437127 ...  56.94669492043  23.12176095120\n",
       " 56.96357367113  23.13057145014 ...  56.96357753960  23.13057550283"
      ]
     },
     "execution_count": 6,
     "metadata": {},
     "output_type": "execute_result"
    }
   ],
   "source": [
    "result[0]"
   ]
  },
  {
   "cell_type": "markdown",
   "metadata": {},
   "source": [
    "### Step 3: Convert to DataFrame and select key columns"
   ]
  },
  {
   "cell_type": "markdown",
   "metadata": {},
   "source": [
    "Column Rationale:\n",
    "\n",
    "- `RA_ICRS`, `DE_ICRS`: Celestial coordinates.\n",
    "\n",
    "- `Plx`, `e_Plx`: Parallax and its error (critical for distance estimation).\n",
    "\n",
    "- `pmRA`, `pmDE`: Proper motions (to identify cluster members).\n",
    "\n",
    "- `Gmag`, `BPmag`, `RPmag`: Photometric magnitudes (for color-magnitude diagrams)."
   ]
  },
  {
   "cell_type": "code",
   "execution_count": 7,
   "metadata": {},
   "outputs": [
    {
     "data": {
      "text/html": [
       "<div>\n",
       "<style scoped>\n",
       "    .dataframe tbody tr th:only-of-type {\n",
       "        vertical-align: middle;\n",
       "    }\n",
       "\n",
       "    .dataframe tbody tr th {\n",
       "        vertical-align: top;\n",
       "    }\n",
       "\n",
       "    .dataframe thead th {\n",
       "        text-align: right;\n",
       "    }\n",
       "</style>\n",
       "<table border=\"1\" class=\"dataframe\">\n",
       "  <thead>\n",
       "    <tr style=\"text-align: right;\">\n",
       "      <th></th>\n",
       "      <th>RA_ICRS</th>\n",
       "      <th>DE_ICRS</th>\n",
       "      <th>Source</th>\n",
       "      <th>e_RA_ICRS</th>\n",
       "      <th>e_DE_ICRS</th>\n",
       "      <th>Plx</th>\n",
       "      <th>e_Plx</th>\n",
       "      <th>PM</th>\n",
       "      <th>pmRA</th>\n",
       "      <th>e_pmRA</th>\n",
       "      <th>...</th>\n",
       "      <th>TYC2</th>\n",
       "      <th>URAT1</th>\n",
       "      <th>AllWISE</th>\n",
       "      <th>APASS9</th>\n",
       "      <th>GSC23</th>\n",
       "      <th>RAVE5</th>\n",
       "      <th>2MASS</th>\n",
       "      <th>RAVE6</th>\n",
       "      <th>RAJ2000</th>\n",
       "      <th>DEJ2000</th>\n",
       "    </tr>\n",
       "  </thead>\n",
       "  <tbody>\n",
       "    <tr>\n",
       "      <th>0</th>\n",
       "      <td>56.299707</td>\n",
       "      <td>23.261001</td>\n",
       "      <td>64878779542177920</td>\n",
       "      <td>0.4013</td>\n",
       "      <td>0.2921</td>\n",
       "      <td>0.2190</td>\n",
       "      <td>0.4557</td>\n",
       "      <td>2.859</td>\n",
       "      <td>2.721</td>\n",
       "      <td>0.595</td>\n",
       "      <td>...</td>\n",
       "      <td></td>\n",
       "      <td></td>\n",
       "      <td></td>\n",
       "      <td>&lt;NA&gt;</td>\n",
       "      <td>NC3R001125</td>\n",
       "      <td></td>\n",
       "      <td></td>\n",
       "      <td></td>\n",
       "      <td>56.299693</td>\n",
       "      <td>23.261005</td>\n",
       "    </tr>\n",
       "    <tr>\n",
       "      <th>1</th>\n",
       "      <td>56.311875</td>\n",
       "      <td>23.256156</td>\n",
       "      <td>64878779542180096</td>\n",
       "      <td>0.5357</td>\n",
       "      <td>0.3904</td>\n",
       "      <td>0.8742</td>\n",
       "      <td>0.6493</td>\n",
       "      <td>5.453</td>\n",
       "      <td>-1.735</td>\n",
       "      <td>0.871</td>\n",
       "      <td>...</td>\n",
       "      <td></td>\n",
       "      <td></td>\n",
       "      <td></td>\n",
       "      <td>&lt;NA&gt;</td>\n",
       "      <td>NC3R002264</td>\n",
       "      <td></td>\n",
       "      <td></td>\n",
       "      <td></td>\n",
       "      <td>56.311884</td>\n",
       "      <td>23.256179</td>\n",
       "    </tr>\n",
       "    <tr>\n",
       "      <th>2</th>\n",
       "      <td>56.305435</td>\n",
       "      <td>23.264843</td>\n",
       "      <td>64878779542260864</td>\n",
       "      <td>1.0335</td>\n",
       "      <td>0.7541</td>\n",
       "      <td>2.6486</td>\n",
       "      <td>1.1043</td>\n",
       "      <td>19.280</td>\n",
       "      <td>0.152</td>\n",
       "      <td>1.829</td>\n",
       "      <td>...</td>\n",
       "      <td></td>\n",
       "      <td></td>\n",
       "      <td>J034513.30+231553.6</td>\n",
       "      <td>&lt;NA&gt;</td>\n",
       "      <td></td>\n",
       "      <td></td>\n",
       "      <td>03451333+2315539</td>\n",
       "      <td></td>\n",
       "      <td>56.305434</td>\n",
       "      <td>23.264929</td>\n",
       "    </tr>\n",
       "  </tbody>\n",
       "</table>\n",
       "<p>3 rows × 57 columns</p>\n",
       "</div>"
      ],
      "text/plain": [
       "     RA_ICRS    DE_ICRS             Source  e_RA_ICRS  e_DE_ICRS     Plx  \\\n",
       "0  56.299707  23.261001  64878779542177920     0.4013     0.2921  0.2190   \n",
       "1  56.311875  23.256156  64878779542180096     0.5357     0.3904  0.8742   \n",
       "2  56.305435  23.264843  64878779542260864     1.0335     0.7541  2.6486   \n",
       "\n",
       "    e_Plx      PM   pmRA  e_pmRA  ...  TYC2  URAT1              AllWISE  \\\n",
       "0  0.4557   2.859  2.721   0.595  ...                                     \n",
       "1  0.6493   5.453 -1.735   0.871  ...                                     \n",
       "2  1.1043  19.280  0.152   1.829  ...               J034513.30+231553.6   \n",
       "\n",
       "   APASS9       GSC23  RAVE5             2MASS  RAVE6    RAJ2000    DEJ2000  \n",
       "0    <NA>  NC3R001125                                  56.299693  23.261005  \n",
       "1    <NA>  NC3R002264                                  56.311884  23.256179  \n",
       "2    <NA>                     03451333+2315539         56.305434  23.264929  \n",
       "\n",
       "[3 rows x 57 columns]"
      ]
     },
     "execution_count": 7,
     "metadata": {},
     "output_type": "execute_result"
    }
   ],
   "source": [
    "df = result[0].to_pandas()\n",
    "df.head(3)"
   ]
  },
  {
   "cell_type": "code",
   "execution_count": null,
   "metadata": {},
   "outputs": [
    {
     "data": {
      "text/html": [
       "<div>\n",
       "<style scoped>\n",
       "    .dataframe tbody tr th:only-of-type {\n",
       "        vertical-align: middle;\n",
       "    }\n",
       "\n",
       "    .dataframe tbody tr th {\n",
       "        vertical-align: top;\n",
       "    }\n",
       "\n",
       "    .dataframe thead th {\n",
       "        text-align: right;\n",
       "    }\n",
       "</style>\n",
       "<table border=\"1\" class=\"dataframe\">\n",
       "  <thead>\n",
       "    <tr style=\"text-align: right;\">\n",
       "      <th></th>\n",
       "      <th>RA_ICRS</th>\n",
       "      <th>DE_ICRS</th>\n",
       "      <th>Plx</th>\n",
       "      <th>e_Plx</th>\n",
       "      <th>pmRA</th>\n",
       "      <th>pmDE</th>\n",
       "      <th>Gmag</th>\n",
       "      <th>BPmag</th>\n",
       "      <th>RPmag</th>\n",
       "    </tr>\n",
       "  </thead>\n",
       "  <tbody>\n",
       "    <tr>\n",
       "      <th>0</th>\n",
       "      <td>56.299707</td>\n",
       "      <td>23.261001</td>\n",
       "      <td>0.2190</td>\n",
       "      <td>0.4557</td>\n",
       "      <td>2.721</td>\n",
       "      <td>-0.875</td>\n",
       "      <td>19.586782</td>\n",
       "      <td>20.207155</td>\n",
       "      <td>18.863811</td>\n",
       "    </tr>\n",
       "    <tr>\n",
       "      <th>1</th>\n",
       "      <td>56.311875</td>\n",
       "      <td>23.256156</td>\n",
       "      <td>0.8742</td>\n",
       "      <td>0.6493</td>\n",
       "      <td>-1.735</td>\n",
       "      <td>-5.170</td>\n",
       "      <td>20.001284</td>\n",
       "      <td>20.874315</td>\n",
       "      <td>18.994102</td>\n",
       "    </tr>\n",
       "    <tr>\n",
       "      <th>2</th>\n",
       "      <td>56.305435</td>\n",
       "      <td>23.264843</td>\n",
       "      <td>2.6486</td>\n",
       "      <td>1.1043</td>\n",
       "      <td>0.152</td>\n",
       "      <td>-19.280</td>\n",
       "      <td>20.464280</td>\n",
       "      <td>21.097471</td>\n",
       "      <td>19.070179</td>\n",
       "    </tr>\n",
       "    <tr>\n",
       "      <th>3</th>\n",
       "      <td>56.288855</td>\n",
       "      <td>23.275964</td>\n",
       "      <td>0.1802</td>\n",
       "      <td>0.1463</td>\n",
       "      <td>6.824</td>\n",
       "      <td>-9.670</td>\n",
       "      <td>17.997540</td>\n",
       "      <td>18.467978</td>\n",
       "      <td>17.386631</td>\n",
       "    </tr>\n",
       "    <tr>\n",
       "      <th>4</th>\n",
       "      <td>56.275590</td>\n",
       "      <td>23.278851</td>\n",
       "      <td>-0.3159</td>\n",
       "      <td>0.9182</td>\n",
       "      <td>-2.950</td>\n",
       "      <td>-0.975</td>\n",
       "      <td>20.374250</td>\n",
       "      <td>20.880724</td>\n",
       "      <td>19.652622</td>\n",
       "    </tr>\n",
       "  </tbody>\n",
       "</table>\n",
       "</div>"
      ],
      "text/plain": [
       "     RA_ICRS    DE_ICRS     Plx   e_Plx   pmRA    pmDE       Gmag      BPmag  \\\n",
       "0  56.299707  23.261001  0.2190  0.4557  2.721  -0.875  19.586782  20.207155   \n",
       "1  56.311875  23.256156  0.8742  0.6493 -1.735  -5.170  20.001284  20.874315   \n",
       "2  56.305435  23.264843  2.6486  1.1043  0.152 -19.280  20.464280  21.097471   \n",
       "3  56.288855  23.275964  0.1802  0.1463  6.824  -9.670  17.997540  18.467978   \n",
       "4  56.275590  23.278851 -0.3159  0.9182 -2.950  -0.975  20.374250  20.880724   \n",
       "\n",
       "       RPmag  \n",
       "0  18.863811  \n",
       "1  18.994102  \n",
       "2  19.070179  \n",
       "3  17.386631  \n",
       "4  19.652622  "
      ]
     },
     "execution_count": 8,
     "metadata": {},
     "output_type": "execute_result"
    }
   ],
   "source": [
    "columns_need = ['RA_ICRS', 'DE_ICRS', 'Plx', 'e_Plx', 'pmRA', 'pmDE', 'Gmag', 'BPmag', 'RPmag']\n",
    "df = df[columns_need]\n",
    "df.head()"
   ]
  },
  {
   "cell_type": "markdown",
   "metadata": {},
   "source": [
    "### Step 4: Save the data"
   ]
  },
  {
   "cell_type": "markdown",
   "metadata": {},
   "source": [
    "The cleaned dataset is saved to `../data/raw/` for reproducibility in subsequent analyses."
   ]
  },
  {
   "cell_type": "code",
   "execution_count": 10,
   "metadata": {},
   "outputs": [],
   "source": [
    "df.to_csv(\"../data/raw/pleiades_gaia_cleaned.csv\", index=False)"
   ]
  }
 ],
 "metadata": {
  "kernelspec": {
   "display_name": "astro-python",
   "language": "python",
   "name": "python3"
  },
  "language_info": {
   "codemirror_mode": {
    "name": "ipython",
    "version": 3
   },
   "file_extension": ".py",
   "mimetype": "text/x-python",
   "name": "python",
   "nbconvert_exporter": "python",
   "pygments_lexer": "ipython3",
   "version": "3.12.3"
  }
 },
 "nbformat": 4,
 "nbformat_minor": 2
}
